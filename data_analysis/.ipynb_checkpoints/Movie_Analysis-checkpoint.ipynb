{
 "cells": [
  {
   "cell_type": "markdown",
   "metadata": {},
   "source": [
    "#### 导入所用模块"
   ]
  },
  {
   "cell_type": "code",
   "execution_count": 1,
   "metadata": {
    "pycharm": {
     "is_executing": false
    }
   },
   "outputs": [],
   "source": [
    "# % matplotlib inline\n",
    "import numpy as np\n",
    "import pandas as pd\n",
    "import matplotlib.pyplot as plt"
   ]
  },
  {
   "cell_type": "markdown",
   "metadata": {},
   "source": [
    "#### 读取电影的评分及星数分布数据"
   ]
  },
  {
   "cell_type": "code",
   "execution_count": 2,
   "metadata": {
    "pycharm": {
     "is_executing": false
    }
   },
   "outputs": [
    {
     "name": "stdout",
     "output_type": "stream",
     "text": [
      "1929\n"
     ]
    },
    {
     "data": {
      "text/html": [
       "<div>\n",
       "<style scoped>\n",
       "    .dataframe tbody tr th:only-of-type {\n",
       "        vertical-align: middle;\n",
       "    }\n",
       "\n",
       "    .dataframe tbody tr th {\n",
       "        vertical-align: top;\n",
       "    }\n",
       "\n",
       "    .dataframe thead th {\n",
       "        text-align: right;\n",
       "    }\n",
       "</style>\n",
       "<table border=\"1\" class=\"dataframe\">\n",
       "  <thead>\n",
       "    <tr style=\"text-align: right;\">\n",
       "      <th></th>\n",
       "      <th>Name</th>\n",
       "      <th>IDs</th>\n",
       "      <th>Year</th>\n",
       "      <th>Ratings</th>\n",
       "      <th>Ratings_Count</th>\n",
       "      <th>5star</th>\n",
       "      <th>4star</th>\n",
       "      <th>3star</th>\n",
       "      <th>2star</th>\n",
       "      <th>1star</th>\n",
       "    </tr>\n",
       "  </thead>\n",
       "  <tbody>\n",
       "    <tr>\n",
       "      <th>0</th>\n",
       "      <td>高朋满座</td>\n",
       "      <td>2347277</td>\n",
       "      <td>1991</td>\n",
       "      <td>7.2</td>\n",
       "      <td>377</td>\n",
       "      <td>16.5</td>\n",
       "      <td>32.1</td>\n",
       "      <td>45.3</td>\n",
       "      <td>5.8</td>\n",
       "      <td>0.4</td>\n",
       "    </tr>\n",
       "    <tr>\n",
       "      <th>1</th>\n",
       "      <td>狂吻俄罗斯</td>\n",
       "      <td>1962939</td>\n",
       "      <td>1994</td>\n",
       "      <td>6.5</td>\n",
       "      <td>577</td>\n",
       "      <td>5.5</td>\n",
       "      <td>26.5</td>\n",
       "      <td>58.8</td>\n",
       "      <td>8.3</td>\n",
       "      <td>1.0</td>\n",
       "    </tr>\n",
       "    <tr>\n",
       "      <th>2</th>\n",
       "      <td>花田喜事</td>\n",
       "      <td>1416728</td>\n",
       "      <td>1993</td>\n",
       "      <td>7.5</td>\n",
       "      <td>34705</td>\n",
       "      <td>17.9</td>\n",
       "      <td>43.5</td>\n",
       "      <td>34.3</td>\n",
       "      <td>3.7</td>\n",
       "      <td>0.6</td>\n",
       "    </tr>\n",
       "    <tr>\n",
       "      <th>3</th>\n",
       "      <td>年年有今日</td>\n",
       "      <td>4191644</td>\n",
       "      <td>1994</td>\n",
       "      <td>7.8</td>\n",
       "      <td>281750</td>\n",
       "      <td>24.5</td>\n",
       "      <td>44.4</td>\n",
       "      <td>27.6</td>\n",
       "      <td>3.0</td>\n",
       "      <td>0.4</td>\n",
       "    </tr>\n",
       "    <tr>\n",
       "      <th>4</th>\n",
       "      <td>白日女鬼</td>\n",
       "      <td>2995142</td>\n",
       "      <td>1994</td>\n",
       "      <td>5.7</td>\n",
       "      <td>102</td>\n",
       "      <td>5.9</td>\n",
       "      <td>11.8</td>\n",
       "      <td>50.0</td>\n",
       "      <td>26.5</td>\n",
       "      <td>5.9</td>\n",
       "    </tr>\n",
       "  </tbody>\n",
       "</table>\n",
       "</div>"
      ],
      "text/plain": [
       "    Name      IDs  Year  Ratings  Ratings_Count  5star  4star  3star  2star  \\\n",
       "0   高朋满座  2347277  1991      7.2            377   16.5   32.1   45.3    5.8   \n",
       "1  狂吻俄罗斯  1962939  1994      6.5            577    5.5   26.5   58.8    8.3   \n",
       "2   花田喜事  1416728  1993      7.5          34705   17.9   43.5   34.3    3.7   \n",
       "3  年年有今日  4191644  1994      7.8         281750   24.5   44.4   27.6    3.0   \n",
       "4   白日女鬼  2995142  1994      5.7            102    5.9   11.8   50.0   26.5   \n",
       "\n",
       "   1star  \n",
       "0    0.4  \n",
       "1    1.0  \n",
       "2    0.6  \n",
       "3    0.4  \n",
       "4    5.9  "
      ]
     },
     "execution_count": 2,
     "metadata": {},
     "output_type": "execute_result"
    }
   ],
   "source": [
    "weighted_ratings = pd.read_table('weighted_ratings.txt', header=None)\n",
    "weighted_ratings.rename(columns={0: 'Name', 1: 'IDs', 2: 'Year', 3: 'Ratings', 4: 'Ratings_Count', \n",
    "                      5: '5star', 6: '4star', 7: '3star', 8: '2star', 9: '1star'}, inplace=True)\n",
    "del weighted_ratings[10]\n",
    "\n",
    "print(len(weighted_ratings))\n",
    "weighted_ratings.head()"
   ]
  },
  {
   "cell_type": "markdown",
   "metadata": {},
   "source": [
    "#### 读取电影的票房数据"
   ]
  },
  {
   "cell_type": "code",
   "execution_count": 3,
   "metadata": {
    "pycharm": {
     "is_executing": false
    }
   },
   "outputs": [
    {
     "name": "stdout",
     "output_type": "stream",
     "text": [
      "1930\n"
     ]
    },
    {
     "data": {
      "text/html": [
       "<div>\n",
       "<style scoped>\n",
       "    .dataframe tbody tr th:only-of-type {\n",
       "        vertical-align: middle;\n",
       "    }\n",
       "\n",
       "    .dataframe tbody tr th {\n",
       "        vertical-align: top;\n",
       "    }\n",
       "\n",
       "    .dataframe thead th {\n",
       "        text-align: right;\n",
       "    }\n",
       "</style>\n",
       "<table border=\"1\" class=\"dataframe\">\n",
       "  <thead>\n",
       "    <tr style=\"text-align: right;\">\n",
       "      <th></th>\n",
       "      <th>Name</th>\n",
       "      <th>Boxing</th>\n",
       "    </tr>\n",
       "  </thead>\n",
       "  <tbody>\n",
       "    <tr>\n",
       "      <th>0</th>\n",
       "      <td>高朋满座</td>\n",
       "      <td>NaN</td>\n",
       "    </tr>\n",
       "    <tr>\n",
       "      <th>1</th>\n",
       "      <td>狂吻俄罗斯</td>\n",
       "      <td>NaN</td>\n",
       "    </tr>\n",
       "    <tr>\n",
       "      <th>2</th>\n",
       "      <td>花田喜事</td>\n",
       "      <td>NaN</td>\n",
       "    </tr>\n",
       "    <tr>\n",
       "      <th>3</th>\n",
       "      <td>年年有今日</td>\n",
       "      <td>NaN</td>\n",
       "    </tr>\n",
       "    <tr>\n",
       "      <th>4</th>\n",
       "      <td>白日女鬼</td>\n",
       "      <td>NaN</td>\n",
       "    </tr>\n",
       "  </tbody>\n",
       "</table>\n",
       "</div>"
      ],
      "text/plain": [
       "    Name Boxing\n",
       "0   高朋满座    NaN\n",
       "1  狂吻俄罗斯    NaN\n",
       "2   花田喜事    NaN\n",
       "3  年年有今日    NaN\n",
       "4   白日女鬼    NaN"
      ]
     },
     "execution_count": 3,
     "metadata": {},
     "output_type": "execute_result"
    }
   ],
   "source": [
    "boxings = pd.read_table('boxings.txt', header=None)\n",
    "boxings.rename(columns={0: 'Name', 1: 'Boxing'}, inplace=True)\n",
    "\n",
    "print(len(boxings))\n",
    "boxings.head()"
   ]
  },
  {
   "cell_type": "markdown",
   "metadata": {},
   "source": [
    "#### 读取电影的评分人数，看过人数，想看人数，短评数，影评数"
   ]
  },
  {
   "cell_type": "code",
   "execution_count": 4,
   "metadata": {
    "pycharm": {
     "is_executing": false
    }
   },
   "outputs": [
    {
     "name": "stdout",
     "output_type": "stream",
     "text": [
      "1929\n"
     ]
    },
    {
     "data": {
      "text/html": [
       "<div>\n",
       "<style scoped>\n",
       "    .dataframe tbody tr th:only-of-type {\n",
       "        vertical-align: middle;\n",
       "    }\n",
       "\n",
       "    .dataframe tbody tr th {\n",
       "        vertical-align: top;\n",
       "    }\n",
       "\n",
       "    .dataframe thead th {\n",
       "        text-align: right;\n",
       "    }\n",
       "</style>\n",
       "<table border=\"1\" class=\"dataframe\">\n",
       "  <thead>\n",
       "    <tr style=\"text-align: right;\">\n",
       "      <th></th>\n",
       "      <th>Name</th>\n",
       "      <th>IDs</th>\n",
       "      <th>Ratings_Count</th>\n",
       "      <th>Wish_Count</th>\n",
       "      <th>Collect_Count</th>\n",
       "      <th>Year</th>\n",
       "      <th>Comments_Count</th>\n",
       "      <th>Reviews_Count</th>\n",
       "      <th>Genres</th>\n",
       "    </tr>\n",
       "  </thead>\n",
       "  <tbody>\n",
       "    <tr>\n",
       "      <th>0</th>\n",
       "      <td>高朋满座</td>\n",
       "      <td>2347277</td>\n",
       "      <td>378.0</td>\n",
       "      <td>93.0</td>\n",
       "      <td>483.0</td>\n",
       "      <td>2006</td>\n",
       "      <td>60.0</td>\n",
       "      <td>0.0</td>\n",
       "      <td>剧情/</td>\n",
       "    </tr>\n",
       "    <tr>\n",
       "      <th>1</th>\n",
       "      <td>狂吻俄罗斯</td>\n",
       "      <td>1962939</td>\n",
       "      <td>580.0</td>\n",
       "      <td>239.0</td>\n",
       "      <td>834.0</td>\n",
       "      <td>1994</td>\n",
       "      <td>78.0</td>\n",
       "      <td>1.0</td>\n",
       "      <td>NaN</td>\n",
       "    </tr>\n",
       "    <tr>\n",
       "      <th>2</th>\n",
       "      <td>花田喜事</td>\n",
       "      <td>1416728</td>\n",
       "      <td>34936.0</td>\n",
       "      <td>2756.0</td>\n",
       "      <td>48342.0</td>\n",
       "      <td>1993</td>\n",
       "      <td>5181.0</td>\n",
       "      <td>19.0</td>\n",
       "      <td>喜剧/爱情/</td>\n",
       "    </tr>\n",
       "    <tr>\n",
       "      <th>3</th>\n",
       "      <td>年年有今日</td>\n",
       "      <td>4191644</td>\n",
       "      <td>NaN</td>\n",
       "      <td>NaN</td>\n",
       "      <td>NaN</td>\n",
       "      <td>NaN</td>\n",
       "      <td>NaN</td>\n",
       "      <td>NaN</td>\n",
       "      <td>NaN</td>\n",
       "    </tr>\n",
       "    <tr>\n",
       "      <th>4</th>\n",
       "      <td>白日女鬼</td>\n",
       "      <td>2995142</td>\n",
       "      <td>104.0</td>\n",
       "      <td>91.0</td>\n",
       "      <td>126.0</td>\n",
       "      <td>1994</td>\n",
       "      <td>49.0</td>\n",
       "      <td>0.0</td>\n",
       "      <td>NaN</td>\n",
       "    </tr>\n",
       "  </tbody>\n",
       "</table>\n",
       "</div>"
      ],
      "text/plain": [
       "    Name      IDs  Ratings_Count  Wish_Count  Collect_Count  Year  \\\n",
       "0   高朋满座  2347277          378.0        93.0          483.0  2006   \n",
       "1  狂吻俄罗斯  1962939          580.0       239.0          834.0  1994   \n",
       "2   花田喜事  1416728        34936.0      2756.0        48342.0  1993   \n",
       "3  年年有今日  4191644            NaN         NaN            NaN   NaN   \n",
       "4   白日女鬼  2995142          104.0        91.0          126.0  1994   \n",
       "\n",
       "   Comments_Count  Reviews_Count  Genres  \n",
       "0            60.0            0.0     剧情/  \n",
       "1            78.0            1.0     NaN  \n",
       "2          5181.0           19.0  喜剧/爱情/  \n",
       "3             NaN            NaN     NaN  \n",
       "4            49.0            0.0     NaN  "
      ]
     },
     "execution_count": 4,
     "metadata": {},
     "output_type": "execute_result"
    }
   ],
   "source": [
    "movies_info = pd.read_table('movies_information.txt', header=None)\n",
    "movies_info.rename(columns={0: 'Name', 1: 'IDs', 2: 'Ratings_Count', 3: 'Wish_Count', \n",
    "                           4: 'Collect_Count', 5: 'Year', 6: 'Comments_Count', \n",
    "                            7: 'Reviews_Count', 8: 'Genres'}, inplace=True)\n",
    "print(len(movies_info))\n",
    "movies_info.head()"
   ]
  },
  {
   "cell_type": "markdown",
   "metadata": {},
   "source": [
    "#### 整理、清洗数据，得到包含所有电影全部信息的大表"
   ]
  },
  {
   "cell_type": "code",
   "execution_count": 5,
   "metadata": {
    "pycharm": {
     "is_executing": false
    }
   },
   "outputs": [
    {
     "name": "stdout",
     "output_type": "stream",
     "text": [
      "1935\n"
     ]
    },
    {
     "data": {
      "text/html": [
       "<div>\n",
       "<style scoped>\n",
       "    .dataframe tbody tr th:only-of-type {\n",
       "        vertical-align: middle;\n",
       "    }\n",
       "\n",
       "    .dataframe tbody tr th {\n",
       "        vertical-align: top;\n",
       "    }\n",
       "\n",
       "    .dataframe thead th {\n",
       "        text-align: right;\n",
       "    }\n",
       "</style>\n",
       "<table border=\"1\" class=\"dataframe\">\n",
       "  <thead>\n",
       "    <tr style=\"text-align: right;\">\n",
       "      <th></th>\n",
       "      <th>Name</th>\n",
       "      <th>Wish_Count</th>\n",
       "      <th>Collect_Count</th>\n",
       "      <th>Comments_Count</th>\n",
       "      <th>Reviews_Count</th>\n",
       "      <th>Genres</th>\n",
       "      <th>IDs</th>\n",
       "      <th>Year</th>\n",
       "      <th>Ratings</th>\n",
       "      <th>Ratings_Count</th>\n",
       "      <th>5star</th>\n",
       "      <th>4star</th>\n",
       "      <th>3star</th>\n",
       "      <th>2star</th>\n",
       "      <th>1star</th>\n",
       "    </tr>\n",
       "  </thead>\n",
       "  <tbody>\n",
       "    <tr>\n",
       "      <th>0</th>\n",
       "      <td>高朋满座</td>\n",
       "      <td>93.0</td>\n",
       "      <td>483.0</td>\n",
       "      <td>60.0</td>\n",
       "      <td>0.0</td>\n",
       "      <td>剧情/</td>\n",
       "      <td>2347277</td>\n",
       "      <td>1991</td>\n",
       "      <td>7.2</td>\n",
       "      <td>377</td>\n",
       "      <td>16.5</td>\n",
       "      <td>32.1</td>\n",
       "      <td>45.3</td>\n",
       "      <td>5.8</td>\n",
       "      <td>0.4</td>\n",
       "    </tr>\n",
       "    <tr>\n",
       "      <th>1</th>\n",
       "      <td>狂吻俄罗斯</td>\n",
       "      <td>239.0</td>\n",
       "      <td>834.0</td>\n",
       "      <td>78.0</td>\n",
       "      <td>1.0</td>\n",
       "      <td>NaN</td>\n",
       "      <td>1962939</td>\n",
       "      <td>1994</td>\n",
       "      <td>6.5</td>\n",
       "      <td>577</td>\n",
       "      <td>5.5</td>\n",
       "      <td>26.5</td>\n",
       "      <td>58.8</td>\n",
       "      <td>8.3</td>\n",
       "      <td>1.0</td>\n",
       "    </tr>\n",
       "    <tr>\n",
       "      <th>2</th>\n",
       "      <td>花田喜事</td>\n",
       "      <td>2756.0</td>\n",
       "      <td>48342.0</td>\n",
       "      <td>5181.0</td>\n",
       "      <td>19.0</td>\n",
       "      <td>喜剧/爱情/</td>\n",
       "      <td>1416728</td>\n",
       "      <td>1993</td>\n",
       "      <td>7.5</td>\n",
       "      <td>34705</td>\n",
       "      <td>17.9</td>\n",
       "      <td>43.5</td>\n",
       "      <td>34.3</td>\n",
       "      <td>3.7</td>\n",
       "      <td>0.6</td>\n",
       "    </tr>\n",
       "    <tr>\n",
       "      <th>3</th>\n",
       "      <td>年年有今日</td>\n",
       "      <td>NaN</td>\n",
       "      <td>NaN</td>\n",
       "      <td>NaN</td>\n",
       "      <td>NaN</td>\n",
       "      <td>NaN</td>\n",
       "      <td>4191644</td>\n",
       "      <td>1994</td>\n",
       "      <td>7.8</td>\n",
       "      <td>281750</td>\n",
       "      <td>24.5</td>\n",
       "      <td>44.4</td>\n",
       "      <td>27.6</td>\n",
       "      <td>3.0</td>\n",
       "      <td>0.4</td>\n",
       "    </tr>\n",
       "    <tr>\n",
       "      <th>4</th>\n",
       "      <td>白日女鬼</td>\n",
       "      <td>91.0</td>\n",
       "      <td>126.0</td>\n",
       "      <td>49.0</td>\n",
       "      <td>0.0</td>\n",
       "      <td>NaN</td>\n",
       "      <td>2995142</td>\n",
       "      <td>1994</td>\n",
       "      <td>5.7</td>\n",
       "      <td>102</td>\n",
       "      <td>5.9</td>\n",
       "      <td>11.8</td>\n",
       "      <td>50.0</td>\n",
       "      <td>26.5</td>\n",
       "      <td>5.9</td>\n",
       "    </tr>\n",
       "  </tbody>\n",
       "</table>\n",
       "</div>"
      ],
      "text/plain": [
       "    Name  Wish_Count  Collect_Count  Comments_Count  Reviews_Count  Genres  \\\n",
       "0   高朋满座        93.0          483.0            60.0            0.0     剧情/   \n",
       "1  狂吻俄罗斯       239.0          834.0            78.0            1.0     NaN   \n",
       "2   花田喜事      2756.0        48342.0          5181.0           19.0  喜剧/爱情/   \n",
       "3  年年有今日         NaN            NaN             NaN            NaN     NaN   \n",
       "4   白日女鬼        91.0          126.0            49.0            0.0     NaN   \n",
       "\n",
       "       IDs  Year  Ratings  Ratings_Count  5star  4star  3star  2star  1star  \n",
       "0  2347277  1991      7.2            377   16.5   32.1   45.3    5.8    0.4  \n",
       "1  1962939  1994      6.5            577    5.5   26.5   58.8    8.3    1.0  \n",
       "2  1416728  1993      7.5          34705   17.9   43.5   34.3    3.7    0.6  \n",
       "3  4191644  1994      7.8         281750   24.5   44.4   27.6    3.0    0.4  \n",
       "4  2995142  1994      5.7            102    5.9   11.8   50.0   26.5    5.9  "
      ]
     },
     "execution_count": 5,
     "metadata": {},
     "output_type": "execute_result"
    }
   ],
   "source": [
    "temp = pd.merge(movies_info, weighted_ratings, on='Name')\n",
    "del temp['IDs_x']\n",
    "del temp['Ratings_Count_x']\n",
    "del temp['Year_x']\n",
    "temp.rename(columns={'IDs_y': 'IDs', 'Year_y': 'Year', 'Ratings_Count_y': 'Ratings_Count'}, inplace=True)\n",
    "\n",
    "print(len(temp))\n",
    "temp.head()"
   ]
  },
  {
   "cell_type": "markdown",
   "metadata": {},
   "source": [
    "temp.drop_duplicates('Name') 执行之后直接删除重复数据  temp.duplicated('Name') 将重复数据标记为True  \n",
    "查看重复数据可执行temp[temp.duplicated('Name')==True]"
   ]
  },
  {
   "cell_type": "code",
   "execution_count": 6,
   "metadata": {
    "pycharm": {
     "is_executing": false
    }
   },
   "outputs": [
    {
     "data": {
      "text/html": [
       "<div>\n",
       "<style scoped>\n",
       "    .dataframe tbody tr th:only-of-type {\n",
       "        vertical-align: middle;\n",
       "    }\n",
       "\n",
       "    .dataframe tbody tr th {\n",
       "        vertical-align: top;\n",
       "    }\n",
       "\n",
       "    .dataframe thead th {\n",
       "        text-align: right;\n",
       "    }\n",
       "</style>\n",
       "<table border=\"1\" class=\"dataframe\">\n",
       "  <thead>\n",
       "    <tr style=\"text-align: right;\">\n",
       "      <th></th>\n",
       "      <th>Name</th>\n",
       "      <th>Wish_Count</th>\n",
       "      <th>Collect_Count</th>\n",
       "      <th>Comments_Count</th>\n",
       "      <th>Reviews_Count</th>\n",
       "      <th>Genres</th>\n",
       "      <th>IDs</th>\n",
       "      <th>Year</th>\n",
       "      <th>Ratings</th>\n",
       "      <th>Ratings_Count</th>\n",
       "      <th>5star</th>\n",
       "      <th>4star</th>\n",
       "      <th>3star</th>\n",
       "      <th>2star</th>\n",
       "      <th>1star</th>\n",
       "    </tr>\n",
       "  </thead>\n",
       "  <tbody>\n",
       "    <tr>\n",
       "      <th>0</th>\n",
       "      <td>高朋满座</td>\n",
       "      <td>93.0</td>\n",
       "      <td>483.0</td>\n",
       "      <td>60.0</td>\n",
       "      <td>0.0</td>\n",
       "      <td>剧情/</td>\n",
       "      <td>2347277</td>\n",
       "      <td>1991</td>\n",
       "      <td>7.2</td>\n",
       "      <td>377</td>\n",
       "      <td>16.5</td>\n",
       "      <td>32.1</td>\n",
       "      <td>45.3</td>\n",
       "      <td>5.8</td>\n",
       "      <td>0.4</td>\n",
       "    </tr>\n",
       "    <tr>\n",
       "      <th>1</th>\n",
       "      <td>狂吻俄罗斯</td>\n",
       "      <td>239.0</td>\n",
       "      <td>834.0</td>\n",
       "      <td>78.0</td>\n",
       "      <td>1.0</td>\n",
       "      <td>NaN</td>\n",
       "      <td>1962939</td>\n",
       "      <td>1994</td>\n",
       "      <td>6.5</td>\n",
       "      <td>577</td>\n",
       "      <td>5.5</td>\n",
       "      <td>26.5</td>\n",
       "      <td>58.8</td>\n",
       "      <td>8.3</td>\n",
       "      <td>1.0</td>\n",
       "    </tr>\n",
       "    <tr>\n",
       "      <th>2</th>\n",
       "      <td>花田喜事</td>\n",
       "      <td>2756.0</td>\n",
       "      <td>48342.0</td>\n",
       "      <td>5181.0</td>\n",
       "      <td>19.0</td>\n",
       "      <td>喜剧/爱情/</td>\n",
       "      <td>1416728</td>\n",
       "      <td>1993</td>\n",
       "      <td>7.5</td>\n",
       "      <td>34705</td>\n",
       "      <td>17.9</td>\n",
       "      <td>43.5</td>\n",
       "      <td>34.3</td>\n",
       "      <td>3.7</td>\n",
       "      <td>0.6</td>\n",
       "    </tr>\n",
       "    <tr>\n",
       "      <th>3</th>\n",
       "      <td>年年有今日</td>\n",
       "      <td>NaN</td>\n",
       "      <td>NaN</td>\n",
       "      <td>NaN</td>\n",
       "      <td>NaN</td>\n",
       "      <td>NaN</td>\n",
       "      <td>4191644</td>\n",
       "      <td>1994</td>\n",
       "      <td>7.8</td>\n",
       "      <td>281750</td>\n",
       "      <td>24.5</td>\n",
       "      <td>44.4</td>\n",
       "      <td>27.6</td>\n",
       "      <td>3.0</td>\n",
       "      <td>0.4</td>\n",
       "    </tr>\n",
       "    <tr>\n",
       "      <th>4</th>\n",
       "      <td>白日女鬼</td>\n",
       "      <td>91.0</td>\n",
       "      <td>126.0</td>\n",
       "      <td>49.0</td>\n",
       "      <td>0.0</td>\n",
       "      <td>NaN</td>\n",
       "      <td>2995142</td>\n",
       "      <td>1994</td>\n",
       "      <td>5.7</td>\n",
       "      <td>102</td>\n",
       "      <td>5.9</td>\n",
       "      <td>11.8</td>\n",
       "      <td>50.0</td>\n",
       "      <td>26.5</td>\n",
       "      <td>5.9</td>\n",
       "    </tr>\n",
       "    <tr>\n",
       "      <th>...</th>\n",
       "      <td>...</td>\n",
       "      <td>...</td>\n",
       "      <td>...</td>\n",
       "      <td>...</td>\n",
       "      <td>...</td>\n",
       "      <td>...</td>\n",
       "      <td>...</td>\n",
       "      <td>...</td>\n",
       "      <td>...</td>\n",
       "      <td>...</td>\n",
       "      <td>...</td>\n",
       "      <td>...</td>\n",
       "      <td>...</td>\n",
       "      <td>...</td>\n",
       "      <td>...</td>\n",
       "    </tr>\n",
       "    <tr>\n",
       "      <th>1930</th>\n",
       "      <td>刺杀盖世太保</td>\n",
       "      <td>4263.0</td>\n",
       "      <td>3665.0</td>\n",
       "      <td>1785.0</td>\n",
       "      <td>48.0</td>\n",
       "      <td>剧情/历史/战争/</td>\n",
       "      <td>26383923</td>\n",
       "      <td>2017</td>\n",
       "      <td>6.5</td>\n",
       "      <td>2578</td>\n",
       "      <td>11.9</td>\n",
       "      <td>27.0</td>\n",
       "      <td>49.6</td>\n",
       "      <td>10.1</td>\n",
       "      <td>1.3</td>\n",
       "    </tr>\n",
       "    <tr>\n",
       "      <th>1931</th>\n",
       "      <td>追捕</td>\n",
       "      <td>NaN</td>\n",
       "      <td>NaN</td>\n",
       "      <td>NaN</td>\n",
       "      <td>NaN</td>\n",
       "      <td>NaN</td>\n",
       "      <td>26348414</td>\n",
       "      <td>2017</td>\n",
       "      <td>5.8</td>\n",
       "      <td>1421</td>\n",
       "      <td>9.0</td>\n",
       "      <td>16.5</td>\n",
       "      <td>28.1</td>\n",
       "      <td>27.3</td>\n",
       "      <td>19.1</td>\n",
       "    </tr>\n",
       "    <tr>\n",
       "      <th>1932</th>\n",
       "      <td>嘉年华</td>\n",
       "      <td>48836.0</td>\n",
       "      <td>46230.0</td>\n",
       "      <td>22337.0</td>\n",
       "      <td>1517.0</td>\n",
       "      <td>剧情/</td>\n",
       "      <td>27019527</td>\n",
       "      <td>2017</td>\n",
       "      <td>8.2</td>\n",
       "      <td>3074</td>\n",
       "      <td>37.0</td>\n",
       "      <td>50.6</td>\n",
       "      <td>11.6</td>\n",
       "      <td>0.7</td>\n",
       "      <td>0.1</td>\n",
       "    </tr>\n",
       "    <tr>\n",
       "      <th>1933</th>\n",
       "      <td>维京：王者之战</td>\n",
       "      <td>NaN</td>\n",
       "      <td>NaN</td>\n",
       "      <td>NaN</td>\n",
       "      <td>NaN</td>\n",
       "      <td>NaN</td>\n",
       "      <td>26769449</td>\n",
       "      <td>2017</td>\n",
       "      <td>7.0</td>\n",
       "      <td>613</td>\n",
       "      <td>15.6</td>\n",
       "      <td>30.5</td>\n",
       "      <td>38.3</td>\n",
       "      <td>13.5</td>\n",
       "      <td>2.1</td>\n",
       "    </tr>\n",
       "    <tr>\n",
       "      <th>1934</th>\n",
       "      <td>烟花</td>\n",
       "      <td>15524.0</td>\n",
       "      <td>13174.0</td>\n",
       "      <td>7319.0</td>\n",
       "      <td>507.0</td>\n",
       "      <td>剧情/动画/</td>\n",
       "      <td>26930504</td>\n",
       "      <td>2017</td>\n",
       "      <td>5.6</td>\n",
       "      <td>658</td>\n",
       "      <td>6.1</td>\n",
       "      <td>17.5</td>\n",
       "      <td>38.2</td>\n",
       "      <td>27.8</td>\n",
       "      <td>10.4</td>\n",
       "    </tr>\n",
       "  </tbody>\n",
       "</table>\n",
       "<p>1926 rows × 15 columns</p>\n",
       "</div>"
      ],
      "text/plain": [
       "         Name  Wish_Count  Collect_Count  Comments_Count  Reviews_Count  \\\n",
       "0        高朋满座        93.0          483.0            60.0            0.0   \n",
       "1       狂吻俄罗斯       239.0          834.0            78.0            1.0   \n",
       "2        花田喜事      2756.0        48342.0          5181.0           19.0   \n",
       "3       年年有今日         NaN            NaN             NaN            NaN   \n",
       "4        白日女鬼        91.0          126.0            49.0            0.0   \n",
       "...       ...         ...            ...             ...            ...   \n",
       "1930   刺杀盖世太保      4263.0         3665.0          1785.0           48.0   \n",
       "1931       追捕         NaN            NaN             NaN            NaN   \n",
       "1932      嘉年华     48836.0        46230.0         22337.0         1517.0   \n",
       "1933  维京：王者之战         NaN            NaN             NaN            NaN   \n",
       "1934       烟花     15524.0        13174.0          7319.0          507.0   \n",
       "\n",
       "         Genres       IDs  Year  Ratings  Ratings_Count  5star  4star  3star  \\\n",
       "0           剧情/   2347277  1991      7.2            377   16.5   32.1   45.3   \n",
       "1           NaN   1962939  1994      6.5            577    5.5   26.5   58.8   \n",
       "2        喜剧/爱情/   1416728  1993      7.5          34705   17.9   43.5   34.3   \n",
       "3           NaN   4191644  1994      7.8         281750   24.5   44.4   27.6   \n",
       "4           NaN   2995142  1994      5.7            102    5.9   11.8   50.0   \n",
       "...         ...       ...   ...      ...            ...    ...    ...    ...   \n",
       "1930  剧情/历史/战争/  26383923  2017      6.5           2578   11.9   27.0   49.6   \n",
       "1931        NaN  26348414  2017      5.8           1421    9.0   16.5   28.1   \n",
       "1932        剧情/  27019527  2017      8.2           3074   37.0   50.6   11.6   \n",
       "1933        NaN  26769449  2017      7.0            613   15.6   30.5   38.3   \n",
       "1934     剧情/动画/  26930504  2017      5.6            658    6.1   17.5   38.2   \n",
       "\n",
       "      2star  1star  \n",
       "0       5.8    0.4  \n",
       "1       8.3    1.0  \n",
       "2       3.7    0.6  \n",
       "3       3.0    0.4  \n",
       "4      26.5    5.9  \n",
       "...     ...    ...  \n",
       "1930   10.1    1.3  \n",
       "1931   27.3   19.1  \n",
       "1932    0.7    0.1  \n",
       "1933   13.5    2.1  \n",
       "1934   27.8   10.4  \n",
       "\n",
       "[1926 rows x 15 columns]"
      ]
     },
     "execution_count": 6,
     "metadata": {},
     "output_type": "execute_result"
    }
   ],
   "source": [
    "temp.drop_duplicates('Name')"
   ]
  },
  {
   "cell_type": "code",
   "execution_count": 7,
   "metadata": {
    "pycharm": {
     "is_executing": false
    }
   },
   "outputs": [
    {
     "name": "stdout",
     "output_type": "stream",
     "text": [
      "1947\n"
     ]
    },
    {
     "data": {
      "text/html": [
       "<div>\n",
       "<style scoped>\n",
       "    .dataframe tbody tr th:only-of-type {\n",
       "        vertical-align: middle;\n",
       "    }\n",
       "\n",
       "    .dataframe tbody tr th {\n",
       "        vertical-align: top;\n",
       "    }\n",
       "\n",
       "    .dataframe thead th {\n",
       "        text-align: right;\n",
       "    }\n",
       "</style>\n",
       "<table border=\"1\" class=\"dataframe\">\n",
       "  <thead>\n",
       "    <tr style=\"text-align: right;\">\n",
       "      <th></th>\n",
       "      <th>Name</th>\n",
       "      <th>Wish_Count</th>\n",
       "      <th>Collect_Count</th>\n",
       "      <th>Comments_Count</th>\n",
       "      <th>Reviews_Count</th>\n",
       "      <th>Genres</th>\n",
       "      <th>IDs</th>\n",
       "      <th>Year</th>\n",
       "      <th>Ratings</th>\n",
       "      <th>Ratings_Count</th>\n",
       "      <th>5star</th>\n",
       "      <th>4star</th>\n",
       "      <th>3star</th>\n",
       "      <th>2star</th>\n",
       "      <th>1star</th>\n",
       "      <th>Boxing</th>\n",
       "    </tr>\n",
       "  </thead>\n",
       "  <tbody>\n",
       "    <tr>\n",
       "      <th>0</th>\n",
       "      <td>高朋满座</td>\n",
       "      <td>93.0</td>\n",
       "      <td>483.0</td>\n",
       "      <td>60.0</td>\n",
       "      <td>0.0</td>\n",
       "      <td>剧情/</td>\n",
       "      <td>2347277</td>\n",
       "      <td>1991</td>\n",
       "      <td>7.2</td>\n",
       "      <td>377</td>\n",
       "      <td>16.5</td>\n",
       "      <td>32.1</td>\n",
       "      <td>45.3</td>\n",
       "      <td>5.8</td>\n",
       "      <td>0.4</td>\n",
       "      <td>NaN</td>\n",
       "    </tr>\n",
       "    <tr>\n",
       "      <th>1</th>\n",
       "      <td>狂吻俄罗斯</td>\n",
       "      <td>239.0</td>\n",
       "      <td>834.0</td>\n",
       "      <td>78.0</td>\n",
       "      <td>1.0</td>\n",
       "      <td>NaN</td>\n",
       "      <td>1962939</td>\n",
       "      <td>1994</td>\n",
       "      <td>6.5</td>\n",
       "      <td>577</td>\n",
       "      <td>5.5</td>\n",
       "      <td>26.5</td>\n",
       "      <td>58.8</td>\n",
       "      <td>8.3</td>\n",
       "      <td>1.0</td>\n",
       "      <td>NaN</td>\n",
       "    </tr>\n",
       "    <tr>\n",
       "      <th>2</th>\n",
       "      <td>花田喜事</td>\n",
       "      <td>2756.0</td>\n",
       "      <td>48342.0</td>\n",
       "      <td>5181.0</td>\n",
       "      <td>19.0</td>\n",
       "      <td>喜剧/爱情/</td>\n",
       "      <td>1416728</td>\n",
       "      <td>1993</td>\n",
       "      <td>7.5</td>\n",
       "      <td>34705</td>\n",
       "      <td>17.9</td>\n",
       "      <td>43.5</td>\n",
       "      <td>34.3</td>\n",
       "      <td>3.7</td>\n",
       "      <td>0.6</td>\n",
       "      <td>NaN</td>\n",
       "    </tr>\n",
       "    <tr>\n",
       "      <th>3</th>\n",
       "      <td>年年有今日</td>\n",
       "      <td>NaN</td>\n",
       "      <td>NaN</td>\n",
       "      <td>NaN</td>\n",
       "      <td>NaN</td>\n",
       "      <td>NaN</td>\n",
       "      <td>4191644</td>\n",
       "      <td>1994</td>\n",
       "      <td>7.8</td>\n",
       "      <td>281750</td>\n",
       "      <td>24.5</td>\n",
       "      <td>44.4</td>\n",
       "      <td>27.6</td>\n",
       "      <td>3.0</td>\n",
       "      <td>0.4</td>\n",
       "      <td>NaN</td>\n",
       "    </tr>\n",
       "    <tr>\n",
       "      <th>4</th>\n",
       "      <td>白日女鬼</td>\n",
       "      <td>91.0</td>\n",
       "      <td>126.0</td>\n",
       "      <td>49.0</td>\n",
       "      <td>0.0</td>\n",
       "      <td>NaN</td>\n",
       "      <td>2995142</td>\n",
       "      <td>1994</td>\n",
       "      <td>5.7</td>\n",
       "      <td>102</td>\n",
       "      <td>5.9</td>\n",
       "      <td>11.8</td>\n",
       "      <td>50.0</td>\n",
       "      <td>26.5</td>\n",
       "      <td>5.9</td>\n",
       "      <td>NaN</td>\n",
       "    </tr>\n",
       "  </tbody>\n",
       "</table>\n",
       "</div>"
      ],
      "text/plain": [
       "    Name  Wish_Count  Collect_Count  Comments_Count  Reviews_Count  Genres  \\\n",
       "0   高朋满座        93.0          483.0            60.0            0.0     剧情/   \n",
       "1  狂吻俄罗斯       239.0          834.0            78.0            1.0     NaN   \n",
       "2   花田喜事      2756.0        48342.0          5181.0           19.0  喜剧/爱情/   \n",
       "3  年年有今日         NaN            NaN             NaN            NaN     NaN   \n",
       "4   白日女鬼        91.0          126.0            49.0            0.0     NaN   \n",
       "\n",
       "       IDs  Year  Ratings  Ratings_Count  5star  4star  3star  2star  1star  \\\n",
       "0  2347277  1991      7.2            377   16.5   32.1   45.3    5.8    0.4   \n",
       "1  1962939  1994      6.5            577    5.5   26.5   58.8    8.3    1.0   \n",
       "2  1416728  1993      7.5          34705   17.9   43.5   34.3    3.7    0.6   \n",
       "3  4191644  1994      7.8         281750   24.5   44.4   27.6    3.0    0.4   \n",
       "4  2995142  1994      5.7            102    5.9   11.8   50.0   26.5    5.9   \n",
       "\n",
       "  Boxing  \n",
       "0    NaN  \n",
       "1    NaN  \n",
       "2    NaN  \n",
       "3    NaN  \n",
       "4    NaN  "
      ]
     },
     "execution_count": 7,
     "metadata": {},
     "output_type": "execute_result"
    }
   ],
   "source": [
    "movies = pd.merge(temp, boxings, on='Name')\n",
    "\n",
    "print(len(movies))\n",
    "movies.head()"
   ]
  },
  {
   "cell_type": "code",
   "execution_count": 8,
   "metadata": {
    "pycharm": {
     "is_executing": false
    }
   },
   "outputs": [
    {
     "data": {
      "text/html": [
       "<div>\n",
       "<style scoped>\n",
       "    .dataframe tbody tr th:only-of-type {\n",
       "        vertical-align: middle;\n",
       "    }\n",
       "\n",
       "    .dataframe tbody tr th {\n",
       "        vertical-align: top;\n",
       "    }\n",
       "\n",
       "    .dataframe thead th {\n",
       "        text-align: right;\n",
       "    }\n",
       "</style>\n",
       "<table border=\"1\" class=\"dataframe\">\n",
       "  <thead>\n",
       "    <tr style=\"text-align: right;\">\n",
       "      <th></th>\n",
       "      <th>Name</th>\n",
       "      <th>Wish_Count</th>\n",
       "      <th>Collect_Count</th>\n",
       "      <th>Comments_Count</th>\n",
       "      <th>Reviews_Count</th>\n",
       "      <th>Genres</th>\n",
       "      <th>IDs</th>\n",
       "      <th>Year</th>\n",
       "      <th>Ratings</th>\n",
       "      <th>Ratings_Count</th>\n",
       "      <th>5star</th>\n",
       "      <th>4star</th>\n",
       "      <th>3star</th>\n",
       "      <th>2star</th>\n",
       "      <th>1star</th>\n",
       "      <th>Boxing</th>\n",
       "    </tr>\n",
       "  </thead>\n",
       "  <tbody>\n",
       "    <tr>\n",
       "      <th>0</th>\n",
       "      <td>高朋满座</td>\n",
       "      <td>93.0</td>\n",
       "      <td>483.0</td>\n",
       "      <td>60.0</td>\n",
       "      <td>0.0</td>\n",
       "      <td>剧情/</td>\n",
       "      <td>2347277</td>\n",
       "      <td>1991</td>\n",
       "      <td>7.2</td>\n",
       "      <td>377</td>\n",
       "      <td>16.5</td>\n",
       "      <td>32.1</td>\n",
       "      <td>45.3</td>\n",
       "      <td>5.8</td>\n",
       "      <td>0.4</td>\n",
       "      <td>NaN</td>\n",
       "    </tr>\n",
       "    <tr>\n",
       "      <th>1</th>\n",
       "      <td>狂吻俄罗斯</td>\n",
       "      <td>239.0</td>\n",
       "      <td>834.0</td>\n",
       "      <td>78.0</td>\n",
       "      <td>1.0</td>\n",
       "      <td>NaN</td>\n",
       "      <td>1962939</td>\n",
       "      <td>1994</td>\n",
       "      <td>6.5</td>\n",
       "      <td>577</td>\n",
       "      <td>5.5</td>\n",
       "      <td>26.5</td>\n",
       "      <td>58.8</td>\n",
       "      <td>8.3</td>\n",
       "      <td>1.0</td>\n",
       "      <td>NaN</td>\n",
       "    </tr>\n",
       "    <tr>\n",
       "      <th>2</th>\n",
       "      <td>花田喜事</td>\n",
       "      <td>2756.0</td>\n",
       "      <td>48342.0</td>\n",
       "      <td>5181.0</td>\n",
       "      <td>19.0</td>\n",
       "      <td>喜剧/爱情/</td>\n",
       "      <td>1416728</td>\n",
       "      <td>1993</td>\n",
       "      <td>7.5</td>\n",
       "      <td>34705</td>\n",
       "      <td>17.9</td>\n",
       "      <td>43.5</td>\n",
       "      <td>34.3</td>\n",
       "      <td>3.7</td>\n",
       "      <td>0.6</td>\n",
       "      <td>NaN</td>\n",
       "    </tr>\n",
       "    <tr>\n",
       "      <th>3</th>\n",
       "      <td>年年有今日</td>\n",
       "      <td>NaN</td>\n",
       "      <td>NaN</td>\n",
       "      <td>NaN</td>\n",
       "      <td>NaN</td>\n",
       "      <td>NaN</td>\n",
       "      <td>4191644</td>\n",
       "      <td>1994</td>\n",
       "      <td>7.8</td>\n",
       "      <td>281750</td>\n",
       "      <td>24.5</td>\n",
       "      <td>44.4</td>\n",
       "      <td>27.6</td>\n",
       "      <td>3.0</td>\n",
       "      <td>0.4</td>\n",
       "      <td>NaN</td>\n",
       "    </tr>\n",
       "    <tr>\n",
       "      <th>4</th>\n",
       "      <td>白日女鬼</td>\n",
       "      <td>91.0</td>\n",
       "      <td>126.0</td>\n",
       "      <td>49.0</td>\n",
       "      <td>0.0</td>\n",
       "      <td>NaN</td>\n",
       "      <td>2995142</td>\n",
       "      <td>1994</td>\n",
       "      <td>5.7</td>\n",
       "      <td>102</td>\n",
       "      <td>5.9</td>\n",
       "      <td>11.8</td>\n",
       "      <td>50.0</td>\n",
       "      <td>26.5</td>\n",
       "      <td>5.9</td>\n",
       "      <td>NaN</td>\n",
       "    </tr>\n",
       "    <tr>\n",
       "      <th>...</th>\n",
       "      <td>...</td>\n",
       "      <td>...</td>\n",
       "      <td>...</td>\n",
       "      <td>...</td>\n",
       "      <td>...</td>\n",
       "      <td>...</td>\n",
       "      <td>...</td>\n",
       "      <td>...</td>\n",
       "      <td>...</td>\n",
       "      <td>...</td>\n",
       "      <td>...</td>\n",
       "      <td>...</td>\n",
       "      <td>...</td>\n",
       "      <td>...</td>\n",
       "      <td>...</td>\n",
       "      <td>...</td>\n",
       "    </tr>\n",
       "    <tr>\n",
       "      <th>1942</th>\n",
       "      <td>刺杀盖世太保</td>\n",
       "      <td>4263.0</td>\n",
       "      <td>3665.0</td>\n",
       "      <td>1785.0</td>\n",
       "      <td>48.0</td>\n",
       "      <td>剧情/历史/战争/</td>\n",
       "      <td>26383923</td>\n",
       "      <td>2017</td>\n",
       "      <td>6.5</td>\n",
       "      <td>2578</td>\n",
       "      <td>11.9</td>\n",
       "      <td>27.0</td>\n",
       "      <td>49.6</td>\n",
       "      <td>10.1</td>\n",
       "      <td>1.3</td>\n",
       "      <td>387.7万</td>\n",
       "    </tr>\n",
       "    <tr>\n",
       "      <th>1943</th>\n",
       "      <td>追捕</td>\n",
       "      <td>NaN</td>\n",
       "      <td>NaN</td>\n",
       "      <td>NaN</td>\n",
       "      <td>NaN</td>\n",
       "      <td>NaN</td>\n",
       "      <td>26348414</td>\n",
       "      <td>2017</td>\n",
       "      <td>5.8</td>\n",
       "      <td>1421</td>\n",
       "      <td>9.0</td>\n",
       "      <td>16.5</td>\n",
       "      <td>28.1</td>\n",
       "      <td>27.3</td>\n",
       "      <td>19.1</td>\n",
       "      <td>0.1万</td>\n",
       "    </tr>\n",
       "    <tr>\n",
       "      <th>1944</th>\n",
       "      <td>嘉年华</td>\n",
       "      <td>48836.0</td>\n",
       "      <td>46230.0</td>\n",
       "      <td>22337.0</td>\n",
       "      <td>1517.0</td>\n",
       "      <td>剧情/</td>\n",
       "      <td>27019527</td>\n",
       "      <td>2017</td>\n",
       "      <td>8.2</td>\n",
       "      <td>3074</td>\n",
       "      <td>37.0</td>\n",
       "      <td>50.6</td>\n",
       "      <td>11.6</td>\n",
       "      <td>0.7</td>\n",
       "      <td>0.1</td>\n",
       "      <td>NaN</td>\n",
       "    </tr>\n",
       "    <tr>\n",
       "      <th>1945</th>\n",
       "      <td>维京：王者之战</td>\n",
       "      <td>NaN</td>\n",
       "      <td>NaN</td>\n",
       "      <td>NaN</td>\n",
       "      <td>NaN</td>\n",
       "      <td>NaN</td>\n",
       "      <td>26769449</td>\n",
       "      <td>2017</td>\n",
       "      <td>7.0</td>\n",
       "      <td>613</td>\n",
       "      <td>15.6</td>\n",
       "      <td>30.5</td>\n",
       "      <td>38.3</td>\n",
       "      <td>13.5</td>\n",
       "      <td>2.1</td>\n",
       "      <td>1329.1万</td>\n",
       "    </tr>\n",
       "    <tr>\n",
       "      <th>1946</th>\n",
       "      <td>烟花</td>\n",
       "      <td>15524.0</td>\n",
       "      <td>13174.0</td>\n",
       "      <td>7319.0</td>\n",
       "      <td>507.0</td>\n",
       "      <td>剧情/动画/</td>\n",
       "      <td>26930504</td>\n",
       "      <td>2017</td>\n",
       "      <td>5.6</td>\n",
       "      <td>658</td>\n",
       "      <td>6.1</td>\n",
       "      <td>17.5</td>\n",
       "      <td>38.2</td>\n",
       "      <td>27.8</td>\n",
       "      <td>10.4</td>\n",
       "      <td>NaN</td>\n",
       "    </tr>\n",
       "  </tbody>\n",
       "</table>\n",
       "<p>1926 rows × 16 columns</p>\n",
       "</div>"
      ],
      "text/plain": [
       "         Name  Wish_Count  Collect_Count  Comments_Count  Reviews_Count  \\\n",
       "0        高朋满座        93.0          483.0            60.0            0.0   \n",
       "1       狂吻俄罗斯       239.0          834.0            78.0            1.0   \n",
       "2        花田喜事      2756.0        48342.0          5181.0           19.0   \n",
       "3       年年有今日         NaN            NaN             NaN            NaN   \n",
       "4        白日女鬼        91.0          126.0            49.0            0.0   \n",
       "...       ...         ...            ...             ...            ...   \n",
       "1942   刺杀盖世太保      4263.0         3665.0          1785.0           48.0   \n",
       "1943       追捕         NaN            NaN             NaN            NaN   \n",
       "1944      嘉年华     48836.0        46230.0         22337.0         1517.0   \n",
       "1945  维京：王者之战         NaN            NaN             NaN            NaN   \n",
       "1946       烟花     15524.0        13174.0          7319.0          507.0   \n",
       "\n",
       "         Genres       IDs  Year  Ratings  Ratings_Count  5star  4star  3star  \\\n",
       "0           剧情/   2347277  1991      7.2            377   16.5   32.1   45.3   \n",
       "1           NaN   1962939  1994      6.5            577    5.5   26.5   58.8   \n",
       "2        喜剧/爱情/   1416728  1993      7.5          34705   17.9   43.5   34.3   \n",
       "3           NaN   4191644  1994      7.8         281750   24.5   44.4   27.6   \n",
       "4           NaN   2995142  1994      5.7            102    5.9   11.8   50.0   \n",
       "...         ...       ...   ...      ...            ...    ...    ...    ...   \n",
       "1942  剧情/历史/战争/  26383923  2017      6.5           2578   11.9   27.0   49.6   \n",
       "1943        NaN  26348414  2017      5.8           1421    9.0   16.5   28.1   \n",
       "1944        剧情/  27019527  2017      8.2           3074   37.0   50.6   11.6   \n",
       "1945        NaN  26769449  2017      7.0            613   15.6   30.5   38.3   \n",
       "1946     剧情/动画/  26930504  2017      5.6            658    6.1   17.5   38.2   \n",
       "\n",
       "      2star  1star   Boxing  \n",
       "0       5.8    0.4      NaN  \n",
       "1       8.3    1.0      NaN  \n",
       "2       3.7    0.6      NaN  \n",
       "3       3.0    0.4      NaN  \n",
       "4      26.5    5.9      NaN  \n",
       "...     ...    ...      ...  \n",
       "1942   10.1    1.3   387.7万  \n",
       "1943   27.3   19.1     0.1万  \n",
       "1944    0.7    0.1      NaN  \n",
       "1945   13.5    2.1  1329.1万  \n",
       "1946   27.8   10.4      NaN  \n",
       "\n",
       "[1926 rows x 16 columns]"
      ]
     },
     "execution_count": 8,
     "metadata": {},
     "output_type": "execute_result"
    }
   ],
   "source": [
    "movies.drop_duplicates('Name')"
   ]
  },
  {
   "cell_type": "markdown",
   "metadata": {},
   "source": [
    "#### 清洗数据，筛选出所有有票房记录的电影数据 movies_with_boxings = movies[~movies['Boxing'].isnull()]  其中的~为取反\n",
    "\n",
    "也可以直接movies_with_boxings = movies[movies['Boxing'].notnull()]\n",
    "eval将字符串str当成有效的表达式来求值并返回计算结果。\n",
    " 字符串转换成列表\n",
    " 4 >>>a = \"[[1,2], [3,4], [5,6], [7,8], [9,0]]\"\n",
    " 5 >>>type(a)\n",
    " 6 <type 'str'>\n",
    " 7 >>> b = eval(a)\n",
    " 8 >>> print b\n",
    " 9 [[1, 2], [3, 4], [5, 6], [7, 8], [9, 0]]\n",
    "10 >>> type(b)\n",
    "11 <type 'list'>\n",
    "\n",
    "字符串转换成字典\n",
    "14 >>> a = \"{1: 'a', 2: 'b'}\"\n",
    "15 >>> type(a)\n",
    "16 <type 'str'>\n",
    "17 >>> b = eval(a)\n",
    "18 >>> print b\n",
    "19 {1: 'a', 2: 'b'}\n",
    "20 >>> type(b)\n",
    "21 <type 'dict'>\n",
    "\n",
    "x[:-1]取 '0.3万'从0到倒数第一个 取到的是0.3  之后用eval('0.3') 转化之后为0.3 float类型"
   ]
  },
  {
   "cell_type": "code",
   "execution_count": 9,
   "metadata": {
    "pycharm": {
     "is_executing": false
    }
   },
   "outputs": [
    {
     "name": "stdout",
     "output_type": "stream",
     "text": [
      "1417\n"
     ]
    },
    {
     "name": "stderr",
     "output_type": "stream",
     "text": [
      "d:\\python\\lib\\site-packages\\ipykernel_launcher.py:2: SettingWithCopyWarning: \n",
      "A value is trying to be set on a copy of a slice from a DataFrame.\n",
      "Try using .loc[row_indexer,col_indexer] = value instead\n",
      "\n",
      "See the caveats in the documentation: https://pandas.pydata.org/pandas-docs/stable/user_guide/indexing.html#returning-a-view-versus-a-copy\n",
      "  \n"
     ]
    },
    {
     "data": {
      "text/html": [
       "<div>\n",
       "<style scoped>\n",
       "    .dataframe tbody tr th:only-of-type {\n",
       "        vertical-align: middle;\n",
       "    }\n",
       "\n",
       "    .dataframe tbody tr th {\n",
       "        vertical-align: top;\n",
       "    }\n",
       "\n",
       "    .dataframe thead th {\n",
       "        text-align: right;\n",
       "    }\n",
       "</style>\n",
       "<table border=\"1\" class=\"dataframe\">\n",
       "  <thead>\n",
       "    <tr style=\"text-align: right;\">\n",
       "      <th></th>\n",
       "      <th>Name</th>\n",
       "      <th>Wish_Count</th>\n",
       "      <th>Collect_Count</th>\n",
       "      <th>Comments_Count</th>\n",
       "      <th>Reviews_Count</th>\n",
       "      <th>Genres</th>\n",
       "      <th>IDs</th>\n",
       "      <th>Year</th>\n",
       "      <th>Ratings</th>\n",
       "      <th>Ratings_Count</th>\n",
       "      <th>5star</th>\n",
       "      <th>4star</th>\n",
       "      <th>3star</th>\n",
       "      <th>2star</th>\n",
       "      <th>1star</th>\n",
       "      <th>Boxing</th>\n",
       "    </tr>\n",
       "  </thead>\n",
       "  <tbody>\n",
       "    <tr>\n",
       "      <th>6</th>\n",
       "      <td>红番区</td>\n",
       "      <td>1740.0</td>\n",
       "      <td>62876.0</td>\n",
       "      <td>3496.0</td>\n",
       "      <td>17.0</td>\n",
       "      <td>喜剧/动作/犯罪/</td>\n",
       "      <td>1296011</td>\n",
       "      <td>1995</td>\n",
       "      <td>7.3</td>\n",
       "      <td>44300</td>\n",
       "      <td>11.4</td>\n",
       "      <td>44.2</td>\n",
       "      <td>41.4</td>\n",
       "      <td>2.7</td>\n",
       "      <td>0.3</td>\n",
       "      <td>0.3</td>\n",
       "    </tr>\n",
       "    <tr>\n",
       "      <th>14</th>\n",
       "      <td>没事偷着乐</td>\n",
       "      <td>2056.0</td>\n",
       "      <td>30869.0</td>\n",
       "      <td>2402.0</td>\n",
       "      <td>40.0</td>\n",
       "      <td>喜剧/</td>\n",
       "      <td>1300678</td>\n",
       "      <td>1999</td>\n",
       "      <td>7.5</td>\n",
       "      <td>21191</td>\n",
       "      <td>14.5</td>\n",
       "      <td>47.3</td>\n",
       "      <td>35.7</td>\n",
       "      <td>2.2</td>\n",
       "      <td>0.4</td>\n",
       "      <td>0.1</td>\n",
       "    </tr>\n",
       "    <tr>\n",
       "      <th>16</th>\n",
       "      <td>缘，妙不可言</td>\n",
       "      <td>249.0</td>\n",
       "      <td>13276.0</td>\n",
       "      <td>926.0</td>\n",
       "      <td>5.0</td>\n",
       "      <td>剧情/爱情/</td>\n",
       "      <td>2148618</td>\n",
       "      <td>1999</td>\n",
       "      <td>5.3</td>\n",
       "      <td>8833</td>\n",
       "      <td>1.4</td>\n",
       "      <td>7.1</td>\n",
       "      <td>53.4</td>\n",
       "      <td>30.5</td>\n",
       "      <td>7.7</td>\n",
       "      <td>1.2</td>\n",
       "    </tr>\n",
       "    <tr>\n",
       "      <th>19</th>\n",
       "      <td>宝莲灯</td>\n",
       "      <td>113.0</td>\n",
       "      <td>13726.0</td>\n",
       "      <td>2550.0</td>\n",
       "      <td>29.0</td>\n",
       "      <td>剧情/</td>\n",
       "      <td>2327493</td>\n",
       "      <td>1999</td>\n",
       "      <td>6.1</td>\n",
       "      <td>10913</td>\n",
       "      <td>10.1</td>\n",
       "      <td>18.8</td>\n",
       "      <td>43.8</td>\n",
       "      <td>19.4</td>\n",
       "      <td>8.0</td>\n",
       "      <td>2.3</td>\n",
       "    </tr>\n",
       "    <tr>\n",
       "      <th>27</th>\n",
       "      <td>国歌</td>\n",
       "      <td>NaN</td>\n",
       "      <td>NaN</td>\n",
       "      <td>NaN</td>\n",
       "      <td>NaN</td>\n",
       "      <td>NaN</td>\n",
       "      <td>1868115</td>\n",
       "      <td>1999</td>\n",
       "      <td>6.5</td>\n",
       "      <td>1082</td>\n",
       "      <td>7.8</td>\n",
       "      <td>22.4</td>\n",
       "      <td>59.9</td>\n",
       "      <td>7.4</td>\n",
       "      <td>2.5</td>\n",
       "      <td>6.5</td>\n",
       "    </tr>\n",
       "  </tbody>\n",
       "</table>\n",
       "</div>"
      ],
      "text/plain": [
       "      Name  Wish_Count  Collect_Count  Comments_Count  Reviews_Count  \\\n",
       "6      红番区      1740.0        62876.0          3496.0           17.0   \n",
       "14   没事偷着乐      2056.0        30869.0          2402.0           40.0   \n",
       "16  缘，妙不可言       249.0        13276.0           926.0            5.0   \n",
       "19     宝莲灯       113.0        13726.0          2550.0           29.0   \n",
       "27      国歌         NaN            NaN             NaN            NaN   \n",
       "\n",
       "       Genres      IDs  Year  Ratings  Ratings_Count  5star  4star  3star  \\\n",
       "6   喜剧/动作/犯罪/  1296011  1995      7.3          44300   11.4   44.2   41.4   \n",
       "14        喜剧/  1300678  1999      7.5          21191   14.5   47.3   35.7   \n",
       "16     剧情/爱情/  2148618  1999      5.3           8833    1.4    7.1   53.4   \n",
       "19        剧情/  2327493  1999      6.1          10913   10.1   18.8   43.8   \n",
       "27        NaN  1868115  1999      6.5           1082    7.8   22.4   59.9   \n",
       "\n",
       "    2star  1star  Boxing  \n",
       "6     2.7    0.3     0.3  \n",
       "14    2.2    0.4     0.1  \n",
       "16   30.5    7.7     1.2  \n",
       "19   19.4    8.0     2.3  \n",
       "27    7.4    2.5     6.5  "
      ]
     },
     "execution_count": 9,
     "metadata": {},
     "output_type": "execute_result"
    }
   ],
   "source": [
    "movies_with_boxings = movies[~movies['Boxing'].isnull()]\n",
    "movies_with_boxings['Boxing'] = movies_with_boxings['Boxing'].apply(lambda x: eval(x[:-1]))\n",
    "\n",
    "print(len(movies_with_boxings))\n",
    "movies_with_boxings.head()"
   ]
  },
  {
   "cell_type": "markdown",
   "metadata": {},
   "source": [
    "#### 清洗数据，在拥有票房纪录的电影中再清洗出有详细统计数据的电影数据\n",
    "处理 NA 的方法有四种：dropna , fillna , isnull , notnull。\n",
    "对于一个 Series，dropna 返回一个仅含非空数据和索引值的 Series。\n",
    "对 DataFrame 的处理方式dropna(axis=0, how='any', thresh=None) ，how 参数可选的值为 any 或者 all。all 仅在切片元素全为 NA 时才抛弃该行(列)。另外一个有趣的参数是 thresh，该参数的类型为整数，它的作用是，比如 thresh=3，会在一行中至少有 3 个非 NA 值时将其保留。\n",
    "\n",
    "fillna(value=None, method=None, axis=0) 中的 value 参数除了基本类型外，还可以使用字典，这样可以实现对不同的列填充不同的值。method 的用法与前面 .reindex() 方法相同，method:{'backfill', 'bfill', 'pad', 'ffill', None} 参数用于指定插值（填充）方式"
   ]
  },
  {
   "cell_type": "code",
   "execution_count": 10,
   "metadata": {
    "pycharm": {
     "is_executing": true
    }
   },
   "outputs": [
    {
     "data": {
      "text/html": [
       "<div>\n",
       "<style scoped>\n",
       "    .dataframe tbody tr th:only-of-type {\n",
       "        vertical-align: middle;\n",
       "    }\n",
       "\n",
       "    .dataframe tbody tr th {\n",
       "        vertical-align: top;\n",
       "    }\n",
       "\n",
       "    .dataframe thead th {\n",
       "        text-align: right;\n",
       "    }\n",
       "</style>\n",
       "<table border=\"1\" class=\"dataframe\">\n",
       "  <thead>\n",
       "    <tr style=\"text-align: right;\">\n",
       "      <th></th>\n",
       "      <th>Name</th>\n",
       "      <th>Wish_Count</th>\n",
       "      <th>Collect_Count</th>\n",
       "      <th>Comments_Count</th>\n",
       "      <th>Reviews_Count</th>\n",
       "      <th>Genres</th>\n",
       "      <th>IDs</th>\n",
       "      <th>Year</th>\n",
       "      <th>Ratings</th>\n",
       "      <th>Ratings_Count</th>\n",
       "      <th>5star</th>\n",
       "      <th>4star</th>\n",
       "      <th>3star</th>\n",
       "      <th>2star</th>\n",
       "      <th>1star</th>\n",
       "      <th>Boxing</th>\n",
       "    </tr>\n",
       "  </thead>\n",
       "  <tbody>\n",
       "    <tr>\n",
       "      <th>6</th>\n",
       "      <td>红番区</td>\n",
       "      <td>1740.0</td>\n",
       "      <td>62876.0</td>\n",
       "      <td>3496.0</td>\n",
       "      <td>17.0</td>\n",
       "      <td>喜剧/动作/犯罪/</td>\n",
       "      <td>1296011</td>\n",
       "      <td>1995</td>\n",
       "      <td>7.3</td>\n",
       "      <td>44300</td>\n",
       "      <td>11.4</td>\n",
       "      <td>44.2</td>\n",
       "      <td>41.4</td>\n",
       "      <td>2.7</td>\n",
       "      <td>0.3</td>\n",
       "      <td>0.3</td>\n",
       "    </tr>\n",
       "    <tr>\n",
       "      <th>14</th>\n",
       "      <td>没事偷着乐</td>\n",
       "      <td>2056.0</td>\n",
       "      <td>30869.0</td>\n",
       "      <td>2402.0</td>\n",
       "      <td>40.0</td>\n",
       "      <td>喜剧/</td>\n",
       "      <td>1300678</td>\n",
       "      <td>1999</td>\n",
       "      <td>7.5</td>\n",
       "      <td>21191</td>\n",
       "      <td>14.5</td>\n",
       "      <td>47.3</td>\n",
       "      <td>35.7</td>\n",
       "      <td>2.2</td>\n",
       "      <td>0.4</td>\n",
       "      <td>0.1</td>\n",
       "    </tr>\n",
       "    <tr>\n",
       "      <th>16</th>\n",
       "      <td>缘，妙不可言</td>\n",
       "      <td>249.0</td>\n",
       "      <td>13276.0</td>\n",
       "      <td>926.0</td>\n",
       "      <td>5.0</td>\n",
       "      <td>剧情/爱情/</td>\n",
       "      <td>2148618</td>\n",
       "      <td>1999</td>\n",
       "      <td>5.3</td>\n",
       "      <td>8833</td>\n",
       "      <td>1.4</td>\n",
       "      <td>7.1</td>\n",
       "      <td>53.4</td>\n",
       "      <td>30.5</td>\n",
       "      <td>7.7</td>\n",
       "      <td>1.2</td>\n",
       "    </tr>\n",
       "    <tr>\n",
       "      <th>19</th>\n",
       "      <td>宝莲灯</td>\n",
       "      <td>113.0</td>\n",
       "      <td>13726.0</td>\n",
       "      <td>2550.0</td>\n",
       "      <td>29.0</td>\n",
       "      <td>剧情/</td>\n",
       "      <td>2327493</td>\n",
       "      <td>1999</td>\n",
       "      <td>6.1</td>\n",
       "      <td>10913</td>\n",
       "      <td>10.1</td>\n",
       "      <td>18.8</td>\n",
       "      <td>43.8</td>\n",
       "      <td>19.4</td>\n",
       "      <td>8.0</td>\n",
       "      <td>2.3</td>\n",
       "    </tr>\n",
       "    <tr>\n",
       "      <th>34</th>\n",
       "      <td>宇宙与人</td>\n",
       "      <td>249.0</td>\n",
       "      <td>1523.0</td>\n",
       "      <td>425.0</td>\n",
       "      <td>17.0</td>\n",
       "      <td>纪录片/</td>\n",
       "      <td>1464628</td>\n",
       "      <td>2000</td>\n",
       "      <td>8.3</td>\n",
       "      <td>1228</td>\n",
       "      <td>41.8</td>\n",
       "      <td>36.5</td>\n",
       "      <td>17.8</td>\n",
       "      <td>3.3</td>\n",
       "      <td>0.6</td>\n",
       "      <td>0.1</td>\n",
       "    </tr>\n",
       "    <tr>\n",
       "      <th>...</th>\n",
       "      <td>...</td>\n",
       "      <td>...</td>\n",
       "      <td>...</td>\n",
       "      <td>...</td>\n",
       "      <td>...</td>\n",
       "      <td>...</td>\n",
       "      <td>...</td>\n",
       "      <td>...</td>\n",
       "      <td>...</td>\n",
       "      <td>...</td>\n",
       "      <td>...</td>\n",
       "      <td>...</td>\n",
       "      <td>...</td>\n",
       "      <td>...</td>\n",
       "      <td>...</td>\n",
       "      <td>...</td>\n",
       "    </tr>\n",
       "    <tr>\n",
       "      <th>1934</th>\n",
       "      <td>天生不对</td>\n",
       "      <td>2088.0</td>\n",
       "      <td>2103.0</td>\n",
       "      <td>1049.0</td>\n",
       "      <td>49.0</td>\n",
       "      <td>喜剧/爱情/</td>\n",
       "      <td>26696871</td>\n",
       "      <td>2017</td>\n",
       "      <td>4.9</td>\n",
       "      <td>925</td>\n",
       "      <td>5.1</td>\n",
       "      <td>8.1</td>\n",
       "      <td>33.0</td>\n",
       "      <td>30.5</td>\n",
       "      <td>23.4</td>\n",
       "      <td>2420.0</td>\n",
       "    </tr>\n",
       "    <tr>\n",
       "      <th>1937</th>\n",
       "      <td>恐袭波士顿</td>\n",
       "      <td>22349.0</td>\n",
       "      <td>32400.0</td>\n",
       "      <td>11228.0</td>\n",
       "      <td>242.0</td>\n",
       "      <td>剧情/历史/惊悚/</td>\n",
       "      <td>26357945</td>\n",
       "      <td>2017</td>\n",
       "      <td>8.1</td>\n",
       "      <td>26651</td>\n",
       "      <td>24.9</td>\n",
       "      <td>57.6</td>\n",
       "      <td>16.5</td>\n",
       "      <td>0.9</td>\n",
       "      <td>0.1</td>\n",
       "      <td>2092.6</td>\n",
       "    </tr>\n",
       "    <tr>\n",
       "      <th>1938</th>\n",
       "      <td>正义联盟</td>\n",
       "      <td>29352.0</td>\n",
       "      <td>110315.0</td>\n",
       "      <td>49485.0</td>\n",
       "      <td>1286.0</td>\n",
       "      <td>动作/科幻/奇幻/</td>\n",
       "      <td>2158490</td>\n",
       "      <td>2017</td>\n",
       "      <td>6.9</td>\n",
       "      <td>73390</td>\n",
       "      <td>11.4</td>\n",
       "      <td>30.5</td>\n",
       "      <td>46.1</td>\n",
       "      <td>10.2</td>\n",
       "      <td>1.7</td>\n",
       "      <td>66836.5</td>\n",
       "    </tr>\n",
       "    <tr>\n",
       "      <th>1941</th>\n",
       "      <td>寻梦环游记</td>\n",
       "      <td>56815.0</td>\n",
       "      <td>294646.0</td>\n",
       "      <td>132357.0</td>\n",
       "      <td>3608.0</td>\n",
       "      <td>喜剧/动画/冒险/</td>\n",
       "      <td>20495023</td>\n",
       "      <td>2017</td>\n",
       "      <td>9.2</td>\n",
       "      <td>1780</td>\n",
       "      <td>73.9</td>\n",
       "      <td>23.0</td>\n",
       "      <td>2.5</td>\n",
       "      <td>0.4</td>\n",
       "      <td>0.4</td>\n",
       "      <td>56892.6</td>\n",
       "    </tr>\n",
       "    <tr>\n",
       "      <th>1942</th>\n",
       "      <td>刺杀盖世太保</td>\n",
       "      <td>4263.0</td>\n",
       "      <td>3665.0</td>\n",
       "      <td>1785.0</td>\n",
       "      <td>48.0</td>\n",
       "      <td>剧情/历史/战争/</td>\n",
       "      <td>26383923</td>\n",
       "      <td>2017</td>\n",
       "      <td>6.5</td>\n",
       "      <td>2578</td>\n",
       "      <td>11.9</td>\n",
       "      <td>27.0</td>\n",
       "      <td>49.6</td>\n",
       "      <td>10.1</td>\n",
       "      <td>1.3</td>\n",
       "      <td>387.7</td>\n",
       "    </tr>\n",
       "  </tbody>\n",
       "</table>\n",
       "<p>906 rows × 16 columns</p>\n",
       "</div>"
      ],
      "text/plain": [
       "        Name  Wish_Count  Collect_Count  Comments_Count  Reviews_Count  \\\n",
       "6        红番区      1740.0        62876.0          3496.0           17.0   \n",
       "14     没事偷着乐      2056.0        30869.0          2402.0           40.0   \n",
       "16    缘，妙不可言       249.0        13276.0           926.0            5.0   \n",
       "19       宝莲灯       113.0        13726.0          2550.0           29.0   \n",
       "34      宇宙与人       249.0         1523.0           425.0           17.0   \n",
       "...      ...         ...            ...             ...            ...   \n",
       "1934    天生不对      2088.0         2103.0          1049.0           49.0   \n",
       "1937   恐袭波士顿     22349.0        32400.0         11228.0          242.0   \n",
       "1938    正义联盟     29352.0       110315.0         49485.0         1286.0   \n",
       "1941   寻梦环游记     56815.0       294646.0        132357.0         3608.0   \n",
       "1942  刺杀盖世太保      4263.0         3665.0          1785.0           48.0   \n",
       "\n",
       "         Genres       IDs  Year  Ratings  Ratings_Count  5star  4star  3star  \\\n",
       "6     喜剧/动作/犯罪/   1296011  1995      7.3          44300   11.4   44.2   41.4   \n",
       "14          喜剧/   1300678  1999      7.5          21191   14.5   47.3   35.7   \n",
       "16       剧情/爱情/   2148618  1999      5.3           8833    1.4    7.1   53.4   \n",
       "19          剧情/   2327493  1999      6.1          10913   10.1   18.8   43.8   \n",
       "34         纪录片/   1464628  2000      8.3           1228   41.8   36.5   17.8   \n",
       "...         ...       ...   ...      ...            ...    ...    ...    ...   \n",
       "1934     喜剧/爱情/  26696871  2017      4.9            925    5.1    8.1   33.0   \n",
       "1937  剧情/历史/惊悚/  26357945  2017      8.1          26651   24.9   57.6   16.5   \n",
       "1938  动作/科幻/奇幻/   2158490  2017      6.9          73390   11.4   30.5   46.1   \n",
       "1941  喜剧/动画/冒险/  20495023  2017      9.2           1780   73.9   23.0    2.5   \n",
       "1942  剧情/历史/战争/  26383923  2017      6.5           2578   11.9   27.0   49.6   \n",
       "\n",
       "      2star  1star   Boxing  \n",
       "6       2.7    0.3      0.3  \n",
       "14      2.2    0.4      0.1  \n",
       "16     30.5    7.7      1.2  \n",
       "19     19.4    8.0      2.3  \n",
       "34      3.3    0.6      0.1  \n",
       "...     ...    ...      ...  \n",
       "1934   30.5   23.4   2420.0  \n",
       "1937    0.9    0.1   2092.6  \n",
       "1938   10.2    1.7  66836.5  \n",
       "1941    0.4    0.4  56892.6  \n",
       "1942   10.1    1.3    387.7  \n",
       "\n",
       "[906 rows x 16 columns]"
      ]
     },
     "execution_count": 10,
     "metadata": {},
     "output_type": "execute_result"
    }
   ],
   "source": [
    "complete_data = movies_with_boxings.dropna()\n",
    "complete_data"
   ]
  },
  {
   "cell_type": "markdown",
   "metadata": {},
   "source": [
    "#### 随机挑选出150部电影数据作为测试集，其余数据作为训练集\n",
    "test_set_index = [False] * len(complete_data) 建立一个false的列表\n",
    "之后将其中150个置为True"
   ]
  },
  {
   "cell_type": "code",
   "execution_count": 11,
   "metadata": {
    "pycharm": {
     "is_executing": true
    }
   },
   "outputs": [],
   "source": [
    "import random\n",
    "\n",
    "test_set_index = [False] * len(complete_data)\n",
    "selected_index = random.sample(list(range(len(complete_data))), 150)\n",
    "for i in selected_index:\n",
    "    test_set_index[i] = True\n",
    "\n",
    "train_set_index = [False] * len(complete_data)\n",
    "for i in range(len(train_set_index)):\n",
    "    train_set_index[i] = not test_set_index[i]"
   ]
  },
  {
   "cell_type": "code",
   "execution_count": 12,
   "metadata": {
    "pycharm": {
     "is_executing": true
    }
   },
   "outputs": [],
   "source": [
    "test_set = complete_data[test_set_index]\n",
    "train_set = complete_data[train_set_index]"
   ]
  },
  {
   "cell_type": "code",
   "execution_count": 13,
   "metadata": {
    "pycharm": {
     "is_executing": true
    }
   },
   "outputs": [
    {
     "name": "stdout",
     "output_type": "stream",
     "text": [
      "150\n",
      "756\n"
     ]
    }
   ],
   "source": [
    "print(len(test_set))\n",
    "print(len(train_set))"
   ]
  },
  {
   "cell_type": "markdown",
   "metadata": {},
   "source": [
    "#### 将影片类型映射成分数的函数\n",
    "score[0,0,0,0,0,1,0   ...]21个  将电影类型转换成 k of 1类型"
   ]
  },
  {
   "cell_type": "code",
   "execution_count": 14,
   "metadata": {
    "pycharm": {
     "is_executing": true
    }
   },
   "outputs": [],
   "source": [
    "def type_score(s):\n",
    "    assert type(s) == str\n",
    "    types = s.split('/')\n",
    "    if types[-1] == '':\n",
    "        types.pop()\n",
    "    score = [0] * 21\n",
    "    for x in types:\n",
    "        if x == '剧情':\n",
    "            score[0] = 1\n",
    "        elif x == '爱情':\n",
    "            score[1] = 1\n",
    "        elif x == '喜剧':\n",
    "            score[2] = 1\n",
    "        elif x == '动作':\n",
    "            score[3] = 1\n",
    "        elif x == '犯罪':\n",
    "            score[4] = 1\n",
    "        elif x == '科幻':\n",
    "            score[5] = 1\n",
    "        elif x == '惊悚':\n",
    "            score[6] = 1\n",
    "        elif x == '儿童':\n",
    "            score[7] = 1\n",
    "        elif x == '动画':\n",
    "            score[8] = 1\n",
    "        elif x == '悬疑':\n",
    "            score[9] = 1\n",
    "        elif x == '历史':\n",
    "            score[10] = 1\n",
    "        elif x == '战争':\n",
    "            score[11] = 1\n",
    "        elif x == '传记':\n",
    "            score[12] = 1\n",
    "        elif x == '纪录片':\n",
    "            score[13] = 1\n",
    "        elif x == '武侠':\n",
    "            score[14] = 1\n",
    "        elif x == '奇幻':\n",
    "            score[15] = 1\n",
    "        elif x == '冒险':\n",
    "            score[16] = 1\n",
    "        elif x == '运动':\n",
    "            score[17] = 1\n",
    "        elif x == '音乐':\n",
    "            score[18] = 1\n",
    "        elif x == '家庭':\n",
    "            score[19] = 1\n",
    "        elif x == '西部':\n",
    "            score[20] = 1\n",
    "    return score"
   ]
  },
  {
   "cell_type": "markdown",
   "metadata": {},
   "source": [
    "#### 整理训练集数据  \n",
    "train_set.head()\n",
    "        Name  Wish_Count  Collect_Count  Comments_Count  Reviews_Count  \\\n",
    "14      没事偷着乐      2056.0        30869.0          2402.0           40.0\n",
    "16     缘，妙不可言       249.0        13276.0           926.0            5.0\n",
    "19        宝莲灯       113.0        13726.0          2550.0           29.0\n",
    "因为train_set.iloc中的索引值已经改变 不在从1开始  相当于你不知道第一个索引是什么 所以不能用ix 或loc 只能用iloc\n",
    "loc是根据dataframe的具体标签选取列，而iloc是根据标签所在的位置，从0开始计数。\n",
    "df = df.loc[:, ['A', 'C']] \n",
    "df = df.iloc[:, [0, 2]]\n",
    "\n",
    "item为Series类型"
   ]
  },
  {
   "cell_type": "code",
   "execution_count": 15,
   "metadata": {
    "pycharm": {
     "is_executing": true
    }
   },
   "outputs": [
    {
     "data": {
      "text/plain": [
       "[2056.0,\n",
       " 30869.0,\n",
       " 2402.0,\n",
       " 40.0,\n",
       " 1999,\n",
       " 7.5,\n",
       " 21191,\n",
       " 14.5,\n",
       " 47.3,\n",
       " 35.7,\n",
       " 2.2,\n",
       " 0.4,\n",
       " 0,\n",
       " 0,\n",
       " 1,\n",
       " 0,\n",
       " 0,\n",
       " 0,\n",
       " 0,\n",
       " 0,\n",
       " 0,\n",
       " 0,\n",
       " 0,\n",
       " 0,\n",
       " 0,\n",
       " 0,\n",
       " 0,\n",
       " 0,\n",
       " 0,\n",
       " 0,\n",
       " 0,\n",
       " 0,\n",
       " 0]"
      ]
     },
     "execution_count": 15,
     "metadata": {},
     "output_type": "execute_result"
    }
   ],
   "source": [
    "x_train, y_train = [], []\n",
    "\n",
    "for i in range(len(train_set)):\n",
    "    item = train_set.iloc[i]\n",
    "    current_movie = []\n",
    "    current_movie.append(item['Wish_Count'])\n",
    "    current_movie.append(item['Collect_Count'])\n",
    "    current_movie.append(item['Comments_Count'])\n",
    "    current_movie.append(item['Reviews_Count'])\n",
    "    current_movie.append(item['Year'])\n",
    "    current_movie.append(item['Ratings'])\n",
    "    current_movie.append(item['Ratings_Count'])\n",
    "    current_movie.append(item['5star'])\n",
    "    current_movie.append(item['4star'])\n",
    "    current_movie.append(item['3star'])\n",
    "    current_movie.append(item['2star'])\n",
    "    current_movie.append(item['1star'])\n",
    "    current_movie += type_score(item['Genres'])\n",
    "    x_train.append(current_movie)\n",
    "    y_train.append(item['Boxing'])\n",
    "x_train[0]"
   ]
  },
  {
   "cell_type": "markdown",
   "metadata": {},
   "source": [
    "#### 整理测试集数据"
   ]
  },
  {
   "cell_type": "code",
   "execution_count": 16,
   "metadata": {
    "pycharm": {
     "is_executing": true
    }
   },
   "outputs": [],
   "source": [
    "x_test, y_test = [], []\n",
    "\n",
    "for i in range(len(test_set)):\n",
    "    item = test_set.iloc[i]\n",
    "    current_movie = []\n",
    "    current_movie.append(item['Wish_Count'])\n",
    "    current_movie.append(item['Collect_Count'])\n",
    "    current_movie.append(item['Comments_Count'])\n",
    "    current_movie.append(item['Reviews_Count'])\n",
    "    current_movie.append(item['Year'])\n",
    "    current_movie.append(item['Ratings'])\n",
    "    current_movie.append(item['Ratings_Count'])\n",
    "    current_movie.append(item['5star'])\n",
    "    current_movie.append(item['4star'])\n",
    "    current_movie.append(item['3star'])\n",
    "    current_movie.append(item['2star'])\n",
    "    current_movie.append(item['1star'])\n",
    "    current_movie += type_score(item['Genres'])\n",
    "    x_test.append(current_movie)\n",
    "    y_test.append(item['Boxing'])"
   ]
  },
  {
   "cell_type": "markdown",
   "metadata": {},
   "source": [
    "#### 调用各种回归方法的展示接口函数"
   ]
  },
  {
   "cell_type": "code",
   "execution_count": 17,
   "metadata": {
    "pycharm": {
     "is_executing": true
    }
   },
   "outputs": [],
   "source": [
    "def check_regression_model_outcome(model):\n",
    "    model.fit(x_train, y_train)\n",
    "    result = model.predict(x_test)\n",
    "    plt.figure()\n",
    "    plt.plot(np.arange(len(result)), y_test, 'b-', label='true value')\n",
    "    plt.plot(np.arange(len(result)), result, 'r-', label='predict value')\n",
    "    score = model.score(x_test, y_test)\n",
    "    plt.title('score: %f' % score)\n",
    "    plt.legend()\n",
    "    plt.show()"
   ]
  },
  {
   "cell_type": "markdown",
   "metadata": {},
   "source": [
    "#### 决策树回归"
   ]
  },
  {
   "cell_type": "code",
   "execution_count": 18,
   "metadata": {
    "pycharm": {
     "is_executing": true
    }
   },
   "outputs": [
    {
     "data": {
      "image/png": "[encoded data removed]",
      "text/plain": [
       "<Figure size 432x288 with 1 Axes>"
      ]
     },
     "metadata": {
      "needs_background": "light"
     },
     "output_type": "display_data"
    }
   ],
   "source": [
    "from sklearn import tree\n",
    "decision_tree_regressor = tree.DecisionTreeRegressor()\n",
    "check_regression_model_outcome(decision_tree_regressor)"
   ]
  },
  {
   "cell_type": "markdown",
   "metadata": {},
   "source": [
    "#### 线性回归"
   ]
  },
  {
   "cell_type": "code",
   "execution_count": 19,
   "metadata": {
    "pycharm": {
     "is_executing": true
    }
   },
   "outputs": [
    {
     "data": {
      "image/png": "[encoded data removed]",
      "text/plain": [
       "<Figure size 432x288 with 1 Axes>"
      ]
     },
     "metadata": {
      "needs_background": "light"
     },
     "output_type": "display_data"
    }
   ],
   "source": [
    "from sklearn import linear_model\n",
    "linear_regression = linear_model.LinearRegression()\n",
    "check_regression_model_outcome(linear_regression)"
   ]
  },
  {
   "cell_type": "markdown",
   "metadata": {},
   "source": [
    "#### KNN回归"
   ]
  },
  {
   "cell_type": "code",
   "execution_count": 20,
   "metadata": {
    "pycharm": {
     "is_executing": true
    }
   },
   "outputs": [
    {
     "data": {
      "image/png": "[encoded data removed]",
      "text/plain": [
       "<Figure size 432x288 with 1 Axes>"
      ]
     },
     "metadata": {
      "needs_background": "light"
     },
     "output_type": "display_data"
    }
   ],
   "source": [
    "from sklearn import neighbors\n",
    "k_neighbors_regressor = neighbors.KNeighborsRegressor()\n",
    "check_regression_model_outcome(k_neighbors_regressor)"
   ]
  },
  {
   "cell_type": "markdown",
   "metadata": {},
   "source": [
    "#### 随机森林回归"
   ]
  },
  {
   "cell_type": "code",
   "execution_count": 21,
   "metadata": {
    "pycharm": {
     "is_executing": true
    }
   },
   "outputs": [
    {
     "data": {
      "image/png": "[encoded data removed]",
      "text/plain": [
       "<Figure size 432x288 with 1 Axes>"
      ]
     },
     "metadata": {
      "needs_background": "light"
     },
     "output_type": "display_data"
    }
   ],
   "source": [
    "from sklearn import ensemble\n",
    "random_forest_regressor = ensemble.RandomForestRegressor()\n",
    "check_regression_model_outcome(random_forest_regressor)"
   ]
  },
  {
   "cell_type": "markdown",
   "metadata": {},
   "source": [
    "#### Adaboost回归"
   ]
  },
  {
   "cell_type": "code",
   "execution_count": 22,
   "metadata": {
    "pycharm": {
     "is_executing": true
    }
   },
   "outputs": [
    {
     "data": {
      "image/png": "[encoded data removed]",
      "text/plain": [
       "<Figure size 432x288 with 1 Axes>"
      ]
     },
     "metadata": {
      "needs_background": "light"
     },
     "output_type": "display_data"
    }
   ],
   "source": [
    "from sklearn import ensemble\n",
    "AdaBoost_regressor = ensemble.AdaBoostRegressor(n_estimators=5)\n",
    "check_regression_model_outcome(AdaBoost_regressor)"
   ]
  },
  {
   "cell_type": "markdown",
   "metadata": {},
   "source": [
    "#### GBRT回归"
   ]
  },
  {
   "cell_type": "code",
   "execution_count": 23,
   "metadata": {
    "pycharm": {
     "is_executing": true
    }
   },
   "outputs": [
    {
     "data": {
      "image/png": "[encoded data removed]",
      "text/plain": [
       "<Figure size 432x288 with 1 Axes>"
      ]
     },
     "metadata": {
      "needs_background": "light"
     },
     "output_type": "display_data"
    }
   ],
   "source": [
    "from sklearn import ensemble\n",
    "GradientBoosting_regressor = ensemble.GradientBoostingRegressor()\n",
    "check_regression_model_outcome(GradientBoosting_regressor)"
   ]
  },
  {
   "cell_type": "markdown",
   "metadata": {},
   "source": [
    "#### Bagging回归"
   ]
  },
  {
   "cell_type": "code",
   "execution_count": 24,
   "metadata": {
    "pycharm": {
     "is_executing": true
    }
   },
   "outputs": [
    {
     "data": {
      "image/png": "[encoded data removed]",
      "text/plain": [
       "<Figure size 432x288 with 1 Axes>"
      ]
     },
     "metadata": {
      "needs_background": "light"
     },
     "output_type": "display_data"
    }
   ],
   "source": [
    "from sklearn.ensemble import BaggingRegressor\n",
    "bagging_regressor = BaggingRegressor()\n",
    "check_regression_model_outcome(bagging_regressor)"
   ]
  },
  {
   "cell_type": "markdown",
   "metadata": {},
   "source": [
    "#### ExtraTree极端随机树回归"
   ]
  },
  {
   "cell_type": "code",
   "execution_count": 25,
   "metadata": {
    "pycharm": {
     "is_executing": true
    }
   },
   "outputs": [
    {
     "data": {
      "image/png": "[encoded data removed]",
      "text/plain": [
       "<Figure size 432x288 with 1 Axes>"
      ]
     },
     "metadata": {
      "needs_background": "light"
     },
     "output_type": "display_data"
    }
   ],
   "source": [
    "from sklearn.tree import ExtraTreeRegressor\n",
    "extra_tree_regressor = ExtraTreeRegressor()\n",
    "check_regression_model_outcome(extra_tree_regressor)"
   ]
  },
  {
   "cell_type": "code",
   "execution_count": 26,
   "metadata": {
    "pycharm": {
     "is_executing": true
    }
   },
   "outputs": [
    {
     "data": {
      "image/png": "[encoded data removed]",
      "text/plain": [
       "<Figure size 720x576 with 1 Axes>"
      ]
     },
     "metadata": {
      "needs_background": "light"
     },
     "output_type": "display_data"
    }
   ],
   "source": [
    "plt.figure(figsize=(10, 8))\n",
    "\n",
    "decision_tree_regressor.fit(x_train, y_train)\n",
    "result = decision_tree_regressor.predict(x_test)\n",
    "plt.plot(np.arange(len(result)), (result - y_test), 'g-', label='Decision Tree Regression')\n",
    "\n",
    "linear_regression.fit(x_train, y_train)\n",
    "result = linear_regression.predict(x_test)\n",
    "plt.plot(np.arange(len(result)), (result - y_test), 'b-', label='Linear Regression')\n",
    "\n",
    "k_neighbors_regressor.fit(x_train, y_train)\n",
    "result = k_neighbors_regressor.predict(x_test)\n",
    "plt.plot(np.arange(len(result)), (result - y_test), 'r-', label='KNN Regression')\n",
    "\n",
    "random_forest_regressor.fit(x_train, y_train)\n",
    "result = random_forest_regressor.predict(x_test)\n",
    "plt.plot(np.arange(len(result)), (result - y_test), 'c-', label='Random Forest Regression')\n",
    "\n",
    "AdaBoost_regressor.fit(x_train, y_train)\n",
    "result = AdaBoost_regressor.predict(x_test)\n",
    "plt.plot(np.arange(len(result)), (result - y_test), 'm-', label='AdaBoost Regression')\n",
    "\n",
    "GradientBoosting_regressor.fit(x_train, y_train)\n",
    "result = GradientBoosting_regressor.predict(x_test)\n",
    "plt.plot(np.arange(len(result)), (result - y_test), 'k-', label='GradientBoosting Regression')\n",
    "\n",
    "bagging_regressor.fit(x_train, y_train)\n",
    "result = bagging_regressor.predict(x_test)\n",
    "plt.plot(np.arange(len(result)), (result - y_test), 'y-', label='Bagging Regression')\n",
    "\n",
    "extra_tree_regressor.fit(x_train, y_train)\n",
    "result = extra_tree_regressor.predict(x_test)\n",
    "plt.plot(np.arange(len(result)), (result - y_test), color='violet', label='Extra Tree Regression')\n",
    "\n",
    "plt.legend()\n",
    "plt.show()"
   ]
  },
  {
   "cell_type": "markdown",
   "metadata": {},
   "source": [
    "#### 从各归类方法的score值来看，决策树回归、随机森林回归、GBRT回归、Bagging回归有相对比较好的拟合结果。"
   ]
  },
  {
   "cell_type": "markdown",
   "metadata": {},
   "source": [
    "#### 封装单部电影预测票房的函数"
   ]
  },
  {
   "cell_type": "code",
   "execution_count": 27,
   "metadata": {
    "pycharm": {
     "is_executing": true
    }
   },
   "outputs": [],
   "source": [
    "def single_movie_boxing(movie_name):\n",
    "    single_movie = complete_data[complete_data['Name'] == movie_name]\n",
    "\n",
    "    single_test_data = []\n",
    "\n",
    "    item = single_movie.iloc[0]\n",
    "    current_movie = []\n",
    "    current_movie.append(item['Wish_Count'])\n",
    "    current_movie.append(item['Collect_Count'])\n",
    "    current_movie.append(item['Comments_Count'])\n",
    "    current_movie.append(item['Reviews_Count'])\n",
    "    current_movie.append(item['Year'])\n",
    "    current_movie.append(item['Ratings'])\n",
    "    current_movie.append(item['Ratings_Count'])\n",
    "    current_movie.append(item['5star'])\n",
    "    current_movie.append(item['4star'])\n",
    "    current_movie.append(item['3star'])\n",
    "    current_movie.append(item['2star'])\n",
    "    current_movie.append(item['1star'])\n",
    "    current_movie += type_score(item['Genres'])\n",
    "\n",
    "    single_test_data.append(current_movie)\n",
    "    \n",
    "    result1 = decision_tree_regressor.predict(single_test_data)\n",
    "    result2 = random_forest_regressor.predict(single_test_data)\n",
    "    result3 = GradientBoosting_regressor.predict(single_test_data)\n",
    "    result4 = bagging_regressor.predict(single_test_data)\n",
    "\n",
    "    outcome = [result1, result2, result3, result4, item['Boxing']]\n",
    "    \n",
    "    plt.bar(np.arange(5), outcome)\n",
    "    plt.xticks(np.arange(5), ['DecisionTree', 'RandomForest', 'GBRT', 'Bagging', 'Actual'],rotation='vertical')\n",
    "    plt.show()"
   ]
  },
  {
   "cell_type": "code",
   "execution_count": 28,
   "metadata": {
    "pycharm": {
     "is_executing": true
    },
    "scrolled": true
   },
   "outputs": [
    {
     "name": "stderr",
     "output_type": "stream",
     "text": [
      "d:\\python\\lib\\site-packages\\numpy\\lib\\stride_tricks.py:256: VisibleDeprecationWarning: Creating an ndarray from ragged nested sequences (which is a list-or-tuple of lists-or-tuples-or ndarrays with different lengths or shapes) is deprecated. If you meant to do this, you must specify 'dtype=object' when creating the ndarray\n",
      "  args = [np.array(_m, copy=False, subok=subok) for _m in args]\n"
     ]
    },
    {
     "data": {
      "image/png": "[encoded data removed]",
      "text/plain": [
       "<Figure size 432x288 with 1 Axes>"
      ]
     },
     "metadata": {
      "needs_background": "light"
     },
     "output_type": "display_data"
    }
   ],
   "source": [
    "single_movie_boxing('谍影重重5')"
   ]
  },
  {
   "cell_type": "code",
   "execution_count": 29,
   "metadata": {
    "pycharm": {
     "is_executing": true
    },
    "scrolled": true
   },
   "outputs": [
    {
     "data": {
      "text/html": [
       "<div>\n",
       "<style scoped>\n",
       "    .dataframe tbody tr th:only-of-type {\n",
       "        vertical-align: middle;\n",
       "    }\n",
       "\n",
       "    .dataframe tbody tr th {\n",
       "        vertical-align: top;\n",
       "    }\n",
       "\n",
       "    .dataframe thead th {\n",
       "        text-align: right;\n",
       "    }\n",
       "</style>\n",
       "<table border=\"1\" class=\"dataframe\">\n",
       "  <thead>\n",
       "    <tr style=\"text-align: right;\">\n",
       "      <th></th>\n",
       "      <th>Name</th>\n",
       "      <th>Wish_Count</th>\n",
       "      <th>Collect_Count</th>\n",
       "      <th>Comments_Count</th>\n",
       "      <th>Reviews_Count</th>\n",
       "      <th>Genres</th>\n",
       "      <th>IDs</th>\n",
       "      <th>Year</th>\n",
       "      <th>Ratings</th>\n",
       "      <th>Ratings_Count</th>\n",
       "      <th>5star</th>\n",
       "      <th>4star</th>\n",
       "      <th>3star</th>\n",
       "      <th>2star</th>\n",
       "      <th>1star</th>\n",
       "      <th>Boxing</th>\n",
       "    </tr>\n",
       "  </thead>\n",
       "  <tbody>\n",
       "    <tr>\n",
       "      <th>1652</th>\n",
       "      <td>谍影重重5</td>\n",
       "      <td>11153.0</td>\n",
       "      <td>130856.0</td>\n",
       "      <td>47676.0</td>\n",
       "      <td>610.0</td>\n",
       "      <td>动作/悬疑/惊悚/</td>\n",
       "      <td>26266072</td>\n",
       "      <td>2016</td>\n",
       "      <td>7.3</td>\n",
       "      <td>116566</td>\n",
       "      <td>15.1</td>\n",
       "      <td>42.0</td>\n",
       "      <td>36.5</td>\n",
       "      <td>5.1</td>\n",
       "      <td>1.3</td>\n",
       "      <td>44713.7</td>\n",
       "    </tr>\n",
       "  </tbody>\n",
       "</table>\n",
       "</div>"
      ],
      "text/plain": [
       "       Name  Wish_Count  Collect_Count  Comments_Count  Reviews_Count  \\\n",
       "1652  谍影重重5     11153.0       130856.0         47676.0          610.0   \n",
       "\n",
       "         Genres       IDs  Year  Ratings  Ratings_Count  5star  4star  3star  \\\n",
       "1652  动作/悬疑/惊悚/  26266072  2016      7.3         116566   15.1   42.0   36.5   \n",
       "\n",
       "      2star  1star   Boxing  \n",
       "1652    5.1    1.3  44713.7  "
      ]
     },
     "execution_count": 29,
     "metadata": {},
     "output_type": "execute_result"
    }
   ],
   "source": [
    "complete_data[complete_data['Name'] == '谍影重重5']"
   ]
  },
  {
   "cell_type": "code",
   "execution_count": 30,
   "metadata": {
    "pycharm": {
     "is_executing": true
    },
    "scrolled": false
   },
   "outputs": [
    {
     "name": "stderr",
     "output_type": "stream",
     "text": [
      "d:\\python\\lib\\site-packages\\numpy\\lib\\stride_tricks.py:256: VisibleDeprecationWarning: Creating an ndarray from ragged nested sequences (which is a list-or-tuple of lists-or-tuples-or ndarrays with different lengths or shapes) is deprecated. If you meant to do this, you must specify 'dtype=object' when creating the ndarray\n",
      "  args = [np.array(_m, copy=False, subok=subok) for _m in args]\n"
     ]
    },
    {
     "data": {
      "image/png": "[encoded data removed]",
      "text/plain": [
       "<Figure size 432x288 with 1 Axes>"
      ]
     },
     "metadata": {
      "needs_background": "light"
     },
     "output_type": "display_data"
    }
   ],
   "source": [
    "single_movie_boxing('你的名字。')"
   ]
  },
  {
   "cell_type": "code",
   "execution_count": 31,
   "metadata": {
    "pycharm": {
     "is_executing": true
    },
    "scrolled": true
   },
   "outputs": [
    {
     "data": {
      "text/html": [
       "<div>\n",
       "<style scoped>\n",
       "    .dataframe tbody tr th:only-of-type {\n",
       "        vertical-align: middle;\n",
       "    }\n",
       "\n",
       "    .dataframe tbody tr th {\n",
       "        vertical-align: top;\n",
       "    }\n",
       "\n",
       "    .dataframe thead th {\n",
       "        text-align: right;\n",
       "    }\n",
       "</style>\n",
       "<table border=\"1\" class=\"dataframe\">\n",
       "  <thead>\n",
       "    <tr style=\"text-align: right;\">\n",
       "      <th></th>\n",
       "      <th>Name</th>\n",
       "      <th>Wish_Count</th>\n",
       "      <th>Collect_Count</th>\n",
       "      <th>Comments_Count</th>\n",
       "      <th>Reviews_Count</th>\n",
       "      <th>Genres</th>\n",
       "      <th>IDs</th>\n",
       "      <th>Year</th>\n",
       "      <th>Ratings</th>\n",
       "      <th>Ratings_Count</th>\n",
       "      <th>5star</th>\n",
       "      <th>4star</th>\n",
       "      <th>3star</th>\n",
       "      <th>2star</th>\n",
       "      <th>1star</th>\n",
       "      <th>Boxing</th>\n",
       "    </tr>\n",
       "  </thead>\n",
       "  <tbody>\n",
       "    <tr>\n",
       "      <th>1720</th>\n",
       "      <td>你的名字。</td>\n",
       "      <td>103354.0</td>\n",
       "      <td>467649.0</td>\n",
       "      <td>184335.0</td>\n",
       "      <td>5245.0</td>\n",
       "      <td>剧情/爱情/动画/</td>\n",
       "      <td>26683290</td>\n",
       "      <td>2016</td>\n",
       "      <td>8.5</td>\n",
       "      <td>426575</td>\n",
       "      <td>44.1</td>\n",
       "      <td>37.7</td>\n",
       "      <td>16.0</td>\n",
       "      <td>1.7</td>\n",
       "      <td>0.5</td>\n",
       "      <td>57674.9</td>\n",
       "    </tr>\n",
       "  </tbody>\n",
       "</table>\n",
       "</div>"
      ],
      "text/plain": [
       "       Name  Wish_Count  Collect_Count  Comments_Count  Reviews_Count  \\\n",
       "1720  你的名字。    103354.0       467649.0        184335.0         5245.0   \n",
       "\n",
       "         Genres       IDs  Year  Ratings  Ratings_Count  5star  4star  3star  \\\n",
       "1720  剧情/爱情/动画/  26683290  2016      8.5         426575   44.1   37.7   16.0   \n",
       "\n",
       "      2star  1star   Boxing  \n",
       "1720    1.7    0.5  57674.9  "
      ]
     },
     "execution_count": 31,
     "metadata": {},
     "output_type": "execute_result"
    }
   ],
   "source": [
    "complete_data[complete_data['Name'] == '你的名字。']"
   ]
  },
  {
   "cell_type": "code",
   "execution_count": 32,
   "metadata": {
    "pycharm": {
     "is_executing": true
    },
    "scrolled": false
   },
   "outputs": [
    {
     "name": "stderr",
     "output_type": "stream",
     "text": [
      "d:\\python\\lib\\site-packages\\numpy\\lib\\stride_tricks.py:256: VisibleDeprecationWarning: Creating an ndarray from ragged nested sequences (which is a list-or-tuple of lists-or-tuples-or ndarrays with different lengths or shapes) is deprecated. If you meant to do this, you must specify 'dtype=object' when creating the ndarray\n",
      "  args = [np.array(_m, copy=False, subok=subok) for _m in args]\n"
     ]
    },
    {
     "data": {
      "image/png": "[encoded data removed]",
      "text/plain": [
       "<Figure size 432x288 with 1 Axes>"
      ]
     },
     "metadata": {
      "needs_background": "light"
     },
     "output_type": "display_data"
    }
   ],
   "source": [
    "single_movie_boxing('美国队长3')"
   ]
  },
  {
   "cell_type": "code",
   "execution_count": 33,
   "metadata": {
    "pycharm": {
     "is_executing": true
    },
    "scrolled": false
   },
   "outputs": [
    {
     "data": {
      "text/html": [
       "<div>\n",
       "<style scoped>\n",
       "    .dataframe tbody tr th:only-of-type {\n",
       "        vertical-align: middle;\n",
       "    }\n",
       "\n",
       "    .dataframe tbody tr th {\n",
       "        vertical-align: top;\n",
       "    }\n",
       "\n",
       "    .dataframe thead th {\n",
       "        text-align: right;\n",
       "    }\n",
       "</style>\n",
       "<table border=\"1\" class=\"dataframe\">\n",
       "  <thead>\n",
       "    <tr style=\"text-align: right;\">\n",
       "      <th></th>\n",
       "      <th>Name</th>\n",
       "      <th>Wish_Count</th>\n",
       "      <th>Collect_Count</th>\n",
       "      <th>Comments_Count</th>\n",
       "      <th>Reviews_Count</th>\n",
       "      <th>Genres</th>\n",
       "      <th>IDs</th>\n",
       "      <th>Year</th>\n",
       "      <th>Ratings</th>\n",
       "      <th>Ratings_Count</th>\n",
       "      <th>5star</th>\n",
       "      <th>4star</th>\n",
       "      <th>3star</th>\n",
       "      <th>2star</th>\n",
       "      <th>1star</th>\n",
       "      <th>Boxing</th>\n",
       "    </tr>\n",
       "  </thead>\n",
       "  <tbody>\n",
       "    <tr>\n",
       "      <th>1592</th>\n",
       "      <td>美国队长3</td>\n",
       "      <td>14977.0</td>\n",
       "      <td>244284.0</td>\n",
       "      <td>87109.0</td>\n",
       "      <td>1728.0</td>\n",
       "      <td>动作/科幻/冒险/</td>\n",
       "      <td>25820460</td>\n",
       "      <td>2016</td>\n",
       "      <td>7.7</td>\n",
       "      <td>217644</td>\n",
       "      <td>23.3</td>\n",
       "      <td>43.2</td>\n",
       "      <td>28.3</td>\n",
       "      <td>4.0</td>\n",
       "      <td>1.3</td>\n",
       "      <td>124634.8</td>\n",
       "    </tr>\n",
       "  </tbody>\n",
       "</table>\n",
       "</div>"
      ],
      "text/plain": [
       "       Name  Wish_Count  Collect_Count  Comments_Count  Reviews_Count  \\\n",
       "1592  美国队长3     14977.0       244284.0         87109.0         1728.0   \n",
       "\n",
       "         Genres       IDs  Year  Ratings  Ratings_Count  5star  4star  3star  \\\n",
       "1592  动作/科幻/冒险/  25820460  2016      7.7         217644   23.3   43.2   28.3   \n",
       "\n",
       "      2star  1star    Boxing  \n",
       "1592    4.0    1.3  124634.8  "
      ]
     },
     "execution_count": 33,
     "metadata": {},
     "output_type": "execute_result"
    }
   ],
   "source": [
    "complete_data[complete_data['Name'] == '美国队长3']"
   ]
  },
  {
   "cell_type": "code",
   "execution_count": 34,
   "metadata": {
    "pycharm": {
     "is_executing": true
    },
    "scrolled": true
   },
   "outputs": [
    {
     "name": "stderr",
     "output_type": "stream",
     "text": [
      "d:\\python\\lib\\site-packages\\numpy\\lib\\stride_tricks.py:256: VisibleDeprecationWarning: Creating an ndarray from ragged nested sequences (which is a list-or-tuple of lists-or-tuples-or ndarrays with different lengths or shapes) is deprecated. If you meant to do this, you must specify 'dtype=object' when creating the ndarray\n",
      "  args = [np.array(_m, copy=False, subok=subok) for _m in args]\n"
     ]
    },
    {
     "data": {
      "image/png": "[encoded data removed]",
      "text/plain": [
       "<Figure size 432x288 with 1 Axes>"
      ]
     },
     "metadata": {
      "needs_background": "light"
     },
     "output_type": "display_data"
    }
   ],
   "source": [
    "single_movie_boxing('速度与激情7')"
   ]
  },
  {
   "cell_type": "code",
   "execution_count": 35,
   "metadata": {
    "pycharm": {
     "is_executing": true
    },
    "scrolled": false
   },
   "outputs": [
    {
     "data": {
      "text/html": [
       "<div>\n",
       "<style scoped>\n",
       "    .dataframe tbody tr th:only-of-type {\n",
       "        vertical-align: middle;\n",
       "    }\n",
       "\n",
       "    .dataframe tbody tr th {\n",
       "        vertical-align: top;\n",
       "    }\n",
       "\n",
       "    .dataframe thead th {\n",
       "        text-align: right;\n",
       "    }\n",
       "</style>\n",
       "<table border=\"1\" class=\"dataframe\">\n",
       "  <thead>\n",
       "    <tr style=\"text-align: right;\">\n",
       "      <th></th>\n",
       "      <th>Name</th>\n",
       "      <th>Wish_Count</th>\n",
       "      <th>Collect_Count</th>\n",
       "      <th>Comments_Count</th>\n",
       "      <th>Reviews_Count</th>\n",
       "      <th>Genres</th>\n",
       "      <th>IDs</th>\n",
       "      <th>Year</th>\n",
       "      <th>Ratings</th>\n",
       "      <th>Ratings_Count</th>\n",
       "      <th>5star</th>\n",
       "      <th>4star</th>\n",
       "      <th>3star</th>\n",
       "      <th>2star</th>\n",
       "      <th>1star</th>\n",
       "      <th>Boxing</th>\n",
       "    </tr>\n",
       "  </thead>\n",
       "  <tbody>\n",
       "    <tr>\n",
       "      <th>1399</th>\n",
       "      <td>速度与激情7</td>\n",
       "      <td>37862.0</td>\n",
       "      <td>298325.0</td>\n",
       "      <td>95813.0</td>\n",
       "      <td>1055.0</td>\n",
       "      <td>动作/犯罪/惊悚/</td>\n",
       "      <td>23761370</td>\n",
       "      <td>2015</td>\n",
       "      <td>8.3</td>\n",
       "      <td>258935</td>\n",
       "      <td>39.0</td>\n",
       "      <td>39.9</td>\n",
       "      <td>18.0</td>\n",
       "      <td>2.4</td>\n",
       "      <td>0.8</td>\n",
       "      <td>242658.6</td>\n",
       "    </tr>\n",
       "  </tbody>\n",
       "</table>\n",
       "</div>"
      ],
      "text/plain": [
       "        Name  Wish_Count  Collect_Count  Comments_Count  Reviews_Count  \\\n",
       "1399  速度与激情7     37862.0       298325.0         95813.0         1055.0   \n",
       "\n",
       "         Genres       IDs  Year  Ratings  Ratings_Count  5star  4star  3star  \\\n",
       "1399  动作/犯罪/惊悚/  23761370  2015      8.3         258935   39.0   39.9   18.0   \n",
       "\n",
       "      2star  1star    Boxing  \n",
       "1399    2.4    0.8  242658.6  "
      ]
     },
     "execution_count": 35,
     "metadata": {},
     "output_type": "execute_result"
    }
   ],
   "source": [
    "complete_data[complete_data['Name'] == '速度与激情7']"
   ]
  },
  {
   "cell_type": "code",
   "execution_count": 36,
   "metadata": {
    "pycharm": {
     "is_executing": true
    },
    "scrolled": false
   },
   "outputs": [
    {
     "name": "stderr",
     "output_type": "stream",
     "text": [
      "d:\\python\\lib\\site-packages\\numpy\\lib\\stride_tricks.py:256: VisibleDeprecationWarning: Creating an ndarray from ragged nested sequences (which is a list-or-tuple of lists-or-tuples-or ndarrays with different lengths or shapes) is deprecated. If you meant to do this, you must specify 'dtype=object' when creating the ndarray\n",
      "  args = [np.array(_m, copy=False, subok=subok) for _m in args]\n"
     ]
    },
    {
     "data": {
      "image/png": "[encoded data removed]",
      "text/plain": [
       "<Figure size 432x288 with 1 Axes>"
      ]
     },
     "metadata": {
      "needs_background": "light"
     },
     "output_type": "display_data"
    }
   ],
   "source": [
    "single_movie_boxing('速度与激情8')"
   ]
  },
  {
   "cell_type": "code",
   "execution_count": 37,
   "metadata": {
    "pycharm": {
     "is_executing": true
    },
    "scrolled": true
   },
   "outputs": [
    {
     "data": {
      "text/html": [
       "<div>\n",
       "<style scoped>\n",
       "    .dataframe tbody tr th:only-of-type {\n",
       "        vertical-align: middle;\n",
       "    }\n",
       "\n",
       "    .dataframe tbody tr th {\n",
       "        vertical-align: top;\n",
       "    }\n",
       "\n",
       "    .dataframe thead th {\n",
       "        text-align: right;\n",
       "    }\n",
       "</style>\n",
       "<table border=\"1\" class=\"dataframe\">\n",
       "  <thead>\n",
       "    <tr style=\"text-align: right;\">\n",
       "      <th></th>\n",
       "      <th>Name</th>\n",
       "      <th>Wish_Count</th>\n",
       "      <th>Collect_Count</th>\n",
       "      <th>Comments_Count</th>\n",
       "      <th>Reviews_Count</th>\n",
       "      <th>Genres</th>\n",
       "      <th>IDs</th>\n",
       "      <th>Year</th>\n",
       "      <th>Ratings</th>\n",
       "      <th>Ratings_Count</th>\n",
       "      <th>5star</th>\n",
       "      <th>4star</th>\n",
       "      <th>3star</th>\n",
       "      <th>2star</th>\n",
       "      <th>1star</th>\n",
       "      <th>Boxing</th>\n",
       "    </tr>\n",
       "  </thead>\n",
       "  <tbody>\n",
       "    <tr>\n",
       "      <th>1825</th>\n",
       "      <td>速度与激情8</td>\n",
       "      <td>30625.0</td>\n",
       "      <td>203967.0</td>\n",
       "      <td>79851.0</td>\n",
       "      <td>1303.0</td>\n",
       "      <td>动作/犯罪/</td>\n",
       "      <td>26260853</td>\n",
       "      <td>2017</td>\n",
       "      <td>7.1</td>\n",
       "      <td>185009</td>\n",
       "      <td>13.7</td>\n",
       "      <td>36.6</td>\n",
       "      <td>40.1</td>\n",
       "      <td>7.8</td>\n",
       "      <td>1.7</td>\n",
       "      <td>267095.7</td>\n",
       "    </tr>\n",
       "  </tbody>\n",
       "</table>\n",
       "</div>"
      ],
      "text/plain": [
       "        Name  Wish_Count  Collect_Count  Comments_Count  Reviews_Count  \\\n",
       "1825  速度与激情8     30625.0       203967.0         79851.0         1303.0   \n",
       "\n",
       "      Genres       IDs  Year  Ratings  Ratings_Count  5star  4star  3star  \\\n",
       "1825  动作/犯罪/  26260853  2017      7.1         185009   13.7   36.6   40.1   \n",
       "\n",
       "      2star  1star    Boxing  \n",
       "1825    7.8    1.7  267095.7  "
      ]
     },
     "execution_count": 37,
     "metadata": {},
     "output_type": "execute_result"
    }
   ],
   "source": [
    "complete_data[complete_data['Name'] == '速度与激情8']"
   ]
  },
  {
   "cell_type": "code",
   "execution_count": 38,
   "metadata": {
    "pycharm": {
     "is_executing": true
    },
    "scrolled": true
   },
   "outputs": [
    {
     "name": "stderr",
     "output_type": "stream",
     "text": [
      "d:\\python\\lib\\site-packages\\numpy\\lib\\stride_tricks.py:256: VisibleDeprecationWarning: Creating an ndarray from ragged nested sequences (which is a list-or-tuple of lists-or-tuples-or ndarrays with different lengths or shapes) is deprecated. If you meant to do this, you must specify 'dtype=object' when creating the ndarray\n",
      "  args = [np.array(_m, copy=False, subok=subok) for _m in args]\n"
     ]
    },
    {
     "data": {
      "image/png": "[encoded data removed]",
      "text/plain": [
       "<Figure size 432x288 with 1 Axes>"
      ]
     },
     "metadata": {
      "needs_background": "light"
     },
     "output_type": "display_data"
    }
   ],
   "source": [
    "single_movie_boxing('变形金刚5：最后的骑士')"
   ]
  },
  {
   "cell_type": "code",
   "execution_count": 39,
   "metadata": {
    "pycharm": {
     "is_executing": true
    },
    "scrolled": false
   },
   "outputs": [
    {
     "data": {
      "text/html": [
       "<div>\n",
       "<style scoped>\n",
       "    .dataframe tbody tr th:only-of-type {\n",
       "        vertical-align: middle;\n",
       "    }\n",
       "\n",
       "    .dataframe tbody tr th {\n",
       "        vertical-align: top;\n",
       "    }\n",
       "\n",
       "    .dataframe thead th {\n",
       "        text-align: right;\n",
       "    }\n",
       "</style>\n",
       "<table border=\"1\" class=\"dataframe\">\n",
       "  <thead>\n",
       "    <tr style=\"text-align: right;\">\n",
       "      <th></th>\n",
       "      <th>Name</th>\n",
       "      <th>Wish_Count</th>\n",
       "      <th>Collect_Count</th>\n",
       "      <th>Comments_Count</th>\n",
       "      <th>Reviews_Count</th>\n",
       "      <th>Genres</th>\n",
       "      <th>IDs</th>\n",
       "      <th>Year</th>\n",
       "      <th>Ratings</th>\n",
       "      <th>Ratings_Count</th>\n",
       "      <th>5star</th>\n",
       "      <th>4star</th>\n",
       "      <th>3star</th>\n",
       "      <th>2star</th>\n",
       "      <th>1star</th>\n",
       "      <th>Boxing</th>\n",
       "    </tr>\n",
       "  </thead>\n",
       "  <tbody>\n",
       "    <tr>\n",
       "      <th>1871</th>\n",
       "      <td>变形金刚5：最后的骑士</td>\n",
       "      <td>27678.0</td>\n",
       "      <td>136296.0</td>\n",
       "      <td>66847.0</td>\n",
       "      <td>1427.0</td>\n",
       "      <td>动作/科幻/</td>\n",
       "      <td>25824686</td>\n",
       "      <td>2017</td>\n",
       "      <td>4.8</td>\n",
       "      <td>125030</td>\n",
       "      <td>3.3</td>\n",
       "      <td>8.2</td>\n",
       "      <td>34.5</td>\n",
       "      <td>35.0</td>\n",
       "      <td>19.0</td>\n",
       "      <td>155124.3</td>\n",
       "    </tr>\n",
       "  </tbody>\n",
       "</table>\n",
       "</div>"
      ],
      "text/plain": [
       "             Name  Wish_Count  Collect_Count  Comments_Count  Reviews_Count  \\\n",
       "1871  变形金刚5：最后的骑士     27678.0       136296.0         66847.0         1427.0   \n",
       "\n",
       "      Genres       IDs  Year  Ratings  Ratings_Count  5star  4star  3star  \\\n",
       "1871  动作/科幻/  25824686  2017      4.8         125030    3.3    8.2   34.5   \n",
       "\n",
       "      2star  1star    Boxing  \n",
       "1871   35.0   19.0  155124.3  "
      ]
     },
     "execution_count": 39,
     "metadata": {},
     "output_type": "execute_result"
    }
   ],
   "source": [
    "complete_data[complete_data['Name'] == '变形金刚5：最后的骑士']"
   ]
  },
  {
   "cell_type": "markdown",
   "metadata": {},
   "source": [
    "* **根据以上各个维度的数据对一部电影的票房的预测有一定的参考价值**\n",
    "* **大IP的背书效应可能会造成实际票房远远超出预测值的情况出现**"
   ]
  },
  {
   "cell_type": "code",
   "execution_count": 40,
   "metadata": {
    "pycharm": {
     "is_executing": true
    }
   },
   "outputs": [
    {
     "data": {
      "text/plain": [
       "<matplotlib.axes._subplots.AxesSubplot at 0x2b6c0833a08>"
      ]
     },
     "execution_count": 40,
     "metadata": {},
     "output_type": "execute_result"
    },
    {
     "data": {
      "image/png": "[encoded data removed]",
      "text/plain": [
       "<Figure size 432x288 with 1 Axes>"
      ]
     },
     "metadata": {
      "needs_background": "light"
     },
     "output_type": "display_data"
    }
   ],
   "source": [
    "movies_with_boxings.groupby('Year').mean()['Boxing'].plot(kind='bar')"
   ]
  },
  {
   "cell_type": "markdown",
   "metadata": {},
   "source": [
    "#### 2016年的电影的确表现不佳，按照本来的趋势，应该平均票房要远高于现在的值"
   ]
  },
  {
   "cell_type": "code",
   "execution_count": 41,
   "metadata": {
    "pycharm": {
     "is_executing": true
    }
   },
   "outputs": [],
   "source": [
    "def tag_in_genres(genres, tag):\n",
    "    assert type(genres) == str\n",
    "    assert type(tag) == str\n",
    "    types = genres.split('/')\n",
    "    if types[-1] == '':\n",
    "        types.pop()\n",
    "    if tag in types:\n",
    "        return 1\n",
    "    else:\n",
    "        return 0"
   ]
  },
  {
   "cell_type": "code",
   "execution_count": 42,
   "metadata": {
    "pycharm": {
     "is_executing": true
    }
   },
   "outputs": [
    {
     "name": "stderr",
     "output_type": "stream",
     "text": [
      "d:\\python\\lib\\site-packages\\ipykernel_launcher.py:12: SettingWithCopyWarning: \n",
      "A value is trying to be set on a copy of a slice from a DataFrame.\n",
      "Try using .loc[row_indexer,col_indexer] = value instead\n",
      "\n",
      "See the caveats in the documentation: https://pandas.pydata.org/pandas-docs/stable/user_guide/indexing.html#returning-a-view-versus-a-copy\n",
      "  if sys.path[0] == '':\n"
     ]
    }
   ],
   "source": [
    "all_type = ['剧情', '爱情', '喜剧', '动作', '犯罪', '科幻', '惊悚', \n",
    "            '儿童', '动画', '悬疑', '历史', '战争', '传记', '纪录片', \n",
    "            '武侠', '奇幻', '冒险', '运动', '音乐', '家庭', '西部']\n",
    "\n",
    "type_name = {'剧情': 'Feature', '爱情': 'Affectional', '喜剧': 'Comedy', '动作': 'Action', '犯罪': 'Crime', \n",
    "             '科幻': 'Science Fiction', '惊悚': 'Horror', '儿童': 'Juvenile', '动画': 'Animation', \n",
    "             '悬疑': 'Suspense', '历史': 'Historical', '战争': 'War', '传记': 'Biographical', '纪录片': 'Documentary', \n",
    "            '武侠': 'Swordsman', '奇幻': 'Fantasy', '冒险': 'Adventure', '运动': 'Sports', '音乐': 'Music', \n",
    "             '家庭': 'Family', '西部': 'Western'}\n",
    "\n",
    "for genre in all_type:\n",
    "    complete_data[type_name[genre]] = complete_data['Genres'].apply(tag_in_genres, args=(genre,))"
   ]
  },
  {
   "cell_type": "code",
   "execution_count": 43,
   "metadata": {
    "pycharm": {
     "is_executing": true
    }
   },
   "outputs": [
    {
     "data": {
      "text/html": [
       "<div>\n",
       "<style scoped>\n",
       "    .dataframe tbody tr th:only-of-type {\n",
       "        vertical-align: middle;\n",
       "    }\n",
       "\n",
       "    .dataframe tbody tr th {\n",
       "        vertical-align: top;\n",
       "    }\n",
       "\n",
       "    .dataframe thead th {\n",
       "        text-align: right;\n",
       "    }\n",
       "</style>\n",
       "<table border=\"1\" class=\"dataframe\">\n",
       "  <thead>\n",
       "    <tr style=\"text-align: right;\">\n",
       "      <th></th>\n",
       "      <th>Name</th>\n",
       "      <th>Wish_Count</th>\n",
       "      <th>Collect_Count</th>\n",
       "      <th>Comments_Count</th>\n",
       "      <th>Reviews_Count</th>\n",
       "      <th>Genres</th>\n",
       "      <th>IDs</th>\n",
       "      <th>Year</th>\n",
       "      <th>Ratings</th>\n",
       "      <th>Ratings_Count</th>\n",
       "      <th>...</th>\n",
       "      <th>War</th>\n",
       "      <th>Biographical</th>\n",
       "      <th>Documentary</th>\n",
       "      <th>Swordsman</th>\n",
       "      <th>Fantasy</th>\n",
       "      <th>Adventure</th>\n",
       "      <th>Sports</th>\n",
       "      <th>Music</th>\n",
       "      <th>Family</th>\n",
       "      <th>Western</th>\n",
       "    </tr>\n",
       "  </thead>\n",
       "  <tbody>\n",
       "    <tr>\n",
       "      <th>6</th>\n",
       "      <td>红番区</td>\n",
       "      <td>1740.0</td>\n",
       "      <td>62876.0</td>\n",
       "      <td>3496.0</td>\n",
       "      <td>17.0</td>\n",
       "      <td>喜剧/动作/犯罪/</td>\n",
       "      <td>1296011</td>\n",
       "      <td>1995</td>\n",
       "      <td>7.3</td>\n",
       "      <td>44300</td>\n",
       "      <td>...</td>\n",
       "      <td>0</td>\n",
       "      <td>0</td>\n",
       "      <td>0</td>\n",
       "      <td>0</td>\n",
       "      <td>0</td>\n",
       "      <td>0</td>\n",
       "      <td>0</td>\n",
       "      <td>0</td>\n",
       "      <td>0</td>\n",
       "      <td>0</td>\n",
       "    </tr>\n",
       "    <tr>\n",
       "      <th>14</th>\n",
       "      <td>没事偷着乐</td>\n",
       "      <td>2056.0</td>\n",
       "      <td>30869.0</td>\n",
       "      <td>2402.0</td>\n",
       "      <td>40.0</td>\n",
       "      <td>喜剧/</td>\n",
       "      <td>1300678</td>\n",
       "      <td>1999</td>\n",
       "      <td>7.5</td>\n",
       "      <td>21191</td>\n",
       "      <td>...</td>\n",
       "      <td>0</td>\n",
       "      <td>0</td>\n",
       "      <td>0</td>\n",
       "      <td>0</td>\n",
       "      <td>0</td>\n",
       "      <td>0</td>\n",
       "      <td>0</td>\n",
       "      <td>0</td>\n",
       "      <td>0</td>\n",
       "      <td>0</td>\n",
       "    </tr>\n",
       "    <tr>\n",
       "      <th>16</th>\n",
       "      <td>缘，妙不可言</td>\n",
       "      <td>249.0</td>\n",
       "      <td>13276.0</td>\n",
       "      <td>926.0</td>\n",
       "      <td>5.0</td>\n",
       "      <td>剧情/爱情/</td>\n",
       "      <td>2148618</td>\n",
       "      <td>1999</td>\n",
       "      <td>5.3</td>\n",
       "      <td>8833</td>\n",
       "      <td>...</td>\n",
       "      <td>0</td>\n",
       "      <td>0</td>\n",
       "      <td>0</td>\n",
       "      <td>0</td>\n",
       "      <td>0</td>\n",
       "      <td>0</td>\n",
       "      <td>0</td>\n",
       "      <td>0</td>\n",
       "      <td>0</td>\n",
       "      <td>0</td>\n",
       "    </tr>\n",
       "    <tr>\n",
       "      <th>19</th>\n",
       "      <td>宝莲灯</td>\n",
       "      <td>113.0</td>\n",
       "      <td>13726.0</td>\n",
       "      <td>2550.0</td>\n",
       "      <td>29.0</td>\n",
       "      <td>剧情/</td>\n",
       "      <td>2327493</td>\n",
       "      <td>1999</td>\n",
       "      <td>6.1</td>\n",
       "      <td>10913</td>\n",
       "      <td>...</td>\n",
       "      <td>0</td>\n",
       "      <td>0</td>\n",
       "      <td>0</td>\n",
       "      <td>0</td>\n",
       "      <td>0</td>\n",
       "      <td>0</td>\n",
       "      <td>0</td>\n",
       "      <td>0</td>\n",
       "      <td>0</td>\n",
       "      <td>0</td>\n",
       "    </tr>\n",
       "    <tr>\n",
       "      <th>34</th>\n",
       "      <td>宇宙与人</td>\n",
       "      <td>249.0</td>\n",
       "      <td>1523.0</td>\n",
       "      <td>425.0</td>\n",
       "      <td>17.0</td>\n",
       "      <td>纪录片/</td>\n",
       "      <td>1464628</td>\n",
       "      <td>2000</td>\n",
       "      <td>8.3</td>\n",
       "      <td>1228</td>\n",
       "      <td>...</td>\n",
       "      <td>0</td>\n",
       "      <td>0</td>\n",
       "      <td>1</td>\n",
       "      <td>0</td>\n",
       "      <td>0</td>\n",
       "      <td>0</td>\n",
       "      <td>0</td>\n",
       "      <td>0</td>\n",
       "      <td>0</td>\n",
       "      <td>0</td>\n",
       "    </tr>\n",
       "  </tbody>\n",
       "</table>\n",
       "<p>5 rows × 37 columns</p>\n",
       "</div>"
      ],
      "text/plain": [
       "      Name  Wish_Count  Collect_Count  Comments_Count  Reviews_Count  \\\n",
       "6      红番区      1740.0        62876.0          3496.0           17.0   \n",
       "14   没事偷着乐      2056.0        30869.0          2402.0           40.0   \n",
       "16  缘，妙不可言       249.0        13276.0           926.0            5.0   \n",
       "19     宝莲灯       113.0        13726.0          2550.0           29.0   \n",
       "34    宇宙与人       249.0         1523.0           425.0           17.0   \n",
       "\n",
       "       Genres      IDs  Year  Ratings  Ratings_Count  ...  War  Biographical  \\\n",
       "6   喜剧/动作/犯罪/  1296011  1995      7.3          44300  ...    0             0   \n",
       "14        喜剧/  1300678  1999      7.5          21191  ...    0             0   \n",
       "16     剧情/爱情/  2148618  1999      5.3           8833  ...    0             0   \n",
       "19        剧情/  2327493  1999      6.1          10913  ...    0             0   \n",
       "34       纪录片/  1464628  2000      8.3           1228  ...    0             0   \n",
       "\n",
       "    Documentary  Swordsman  Fantasy  Adventure  Sports  Music  Family  Western  \n",
       "6             0          0        0          0       0      0       0        0  \n",
       "14            0          0        0          0       0      0       0        0  \n",
       "16            0          0        0          0       0      0       0        0  \n",
       "19            0          0        0          0       0      0       0        0  \n",
       "34            1          0        0          0       0      0       0        0  \n",
       "\n",
       "[5 rows x 37 columns]"
      ]
     },
     "execution_count": 43,
     "metadata": {},
     "output_type": "execute_result"
    }
   ],
   "source": [
    "complete_data.head()"
   ]
  },
  {
   "cell_type": "code",
   "execution_count": 44,
   "metadata": {
    "pycharm": {
     "is_executing": true
    }
   },
   "outputs": [],
   "source": [
    "types = ['Feature', 'Affectional', 'Comedy', 'Action', 'Crime', 'Science Fiction', \n",
    "         'Horror', 'Juvenile', 'Animation', 'Suspense', 'Historical', 'War', \n",
    "         'Biographical', 'Documentary', 'Swordsman', 'Fantasy', 'Adventure', \n",
    "         'Sports', 'Music', 'Family', 'Western']\n",
    "\n",
    "boxings = []\n",
    "for item in types:\n",
    "    movies = complete_data[complete_data[item] == 1]\n",
    "    average_boxing = movies['Boxing'].mean()\n",
    "    boxings.append(average_boxing)"
   ]
  },
  {
   "cell_type": "code",
   "execution_count": 45,
   "metadata": {
    "pycharm": {
     "is_executing": true
    }
   },
   "outputs": [
    {
     "data": {
      "image/png": "[encoded data removed]",
      "text/plain": [
       "<Figure size 432x288 with 1 Axes>"
      ]
     },
     "metadata": {
      "needs_background": "light"
     },
     "output_type": "display_data"
    }
   ],
   "source": [
    "plt.figure()\n",
    "plt.bar(np.arange(len(types)), boxings)\n",
    "plt.xticks(np.arange(len(types)), types, rotation='vertical')\n",
    "plt.show()"
   ]
  },
  {
   "cell_type": "markdown",
   "metadata": {},
   "source": [
    "#### 从类型划分上来看，科幻片是平均票房最高的电影类型，其次是动作片"
   ]
  }
 ],
 "metadata": {
  "kernelspec": {
   "display_name": "Python 3",
   "language": "python",
   "name": "python3"
  },
  "language_info": {
   "codemirror_mode": {
    "name": "ipython",
    "version": 3
   },
   "file_extension": ".py",
   "mimetype": "text/x-python",
   "name": "python",
   "nbconvert_exporter": "python",
   "pygments_lexer": "ipython3",
   "version": "3.7.4"
  },
  "pycharm": {
   "stem_cell": {
    "cell_type": "raw",
    "metadata": {
     "collapsed": false
    },
    "source": []
   }
  }
 },
 "nbformat": 4,
 "nbformat_minor": 1
}
